{
 "cells": [
  {
   "cell_type": "markdown",
   "metadata": {
    "toc": true
   },
   "source": [
    "<h1>Table of Contents<span class=\"tocSkip\"></span></h1>\n",
    "<div class=\"toc\"><ul class=\"toc-item\"><li><span><a href=\"#Section---1\" data-toc-modified-id=\"Section---1-1\"><span class=\"toc-item-num\">1&nbsp;&nbsp;</span>Section - 1</a></span><ul class=\"toc-item\"><li><span><a href=\"#Write-a-Python-program-to-print-the-following-string\" data-toc-modified-id=\"Write-a-Python-program-to-print-the-following-string-1.1\"><span class=\"toc-item-num\">1.1&nbsp;&nbsp;</span>Write a Python program to print the following string</a></span></li><li><span><a href=\"#Write-a-Python-Program-to-Add-Two-Numbers\" data-toc-modified-id=\"Write-a-Python-Program-to-Add-Two-Numbers-1.2\"><span class=\"toc-item-num\">1.2&nbsp;&nbsp;</span>Write a Python Program to Add Two Numbers</a></span></li><li><span><a href=\"#Write-a-Python-Program-to-Find-the-product-of-two-numbers\" data-toc-modified-id=\"Write-a-Python-Program-to-Find-the-product-of-two-numbers-1.3\"><span class=\"toc-item-num\">1.3&nbsp;&nbsp;</span>Write a Python Program to Find the product of two numbers</a></span></li><li><span><a href=\"#Write-a-python-program-to-find-the-area-of-triangle-given-height-and-base-of-the-triangle-as-3-and-10.\" data-toc-modified-id=\"Write-a-python-program-to-find-the-area-of-triangle-given-height-and-base-of-the-triangle-as-3-and-10.-1.4\"><span class=\"toc-item-num\">1.4&nbsp;&nbsp;</span>Write a python program to find the area of triangle given height and base of the triangle as 3 and 10.</a></span></li><li><span><a href=\"#Python-Program-to-Swap-Two-Variables\" data-toc-modified-id=\"Python-Program-to-Swap-Two-Variables-1.5\"><span class=\"toc-item-num\">1.5&nbsp;&nbsp;</span>Python Program to Swap Two Variables</a></span></li></ul></li><li><span><a href=\"#Section---2\" data-toc-modified-id=\"Section---2-2\"><span class=\"toc-item-num\">2&nbsp;&nbsp;</span>Section - 2</a></span><ul class=\"toc-item\"><li><span><a href=\"#Write-a-python-program-to-print-datatype-of-a-varaible\" data-toc-modified-id=\"Write-a-python-program-to-print-datatype-of-a-varaible-2.1\"><span class=\"toc-item-num\">2.1&nbsp;&nbsp;</span>Write a python program to print datatype of a varaible</a></span></li><li><span><a href=\"#Write-a-python-program-to-extract-an-item-or-a-range-of-items-from-a-list.\" data-toc-modified-id=\"Write-a-python-program-to-extract-an-item-or-a-range-of-items-from-a-list.-2.2\"><span class=\"toc-item-num\">2.2&nbsp;&nbsp;</span>Write a python program to extract an item or a range of items from a list.</a></span></li><li><span><a href=\"#Converting-Floats-to-Integers\" data-toc-modified-id=\"Converting-Floats-to-Integers-2.3\"><span class=\"toc-item-num\">2.3&nbsp;&nbsp;</span>Converting Floats to Integers</a></span></li><li><span><a href=\"#Converting-Numbers-to-Strings\" data-toc-modified-id=\"Converting-Numbers-to-Strings-2.4\"><span class=\"toc-item-num\">2.4&nbsp;&nbsp;</span>Converting Numbers to Strings</a></span></li><li><span><a href=\"#Converting-Strings-to-Numbers\" data-toc-modified-id=\"Converting-Strings-to-Numbers-2.5\"><span class=\"toc-item-num\">2.5&nbsp;&nbsp;</span>Converting Strings to Numbers</a></span></li><li><span><a href=\"#Converting-list-to-Tuples\" data-toc-modified-id=\"Converting-list-to-Tuples-2.6\"><span class=\"toc-item-num\">2.6&nbsp;&nbsp;</span>Converting list to Tuples</a></span></li><li><span><a href=\"#Converting-tuple-to-Lists\" data-toc-modified-id=\"Converting-tuple-to-Lists-2.7\"><span class=\"toc-item-num\">2.7&nbsp;&nbsp;</span>Converting tuple to Lists</a></span></li><li><span><a href=\"#converting-strings-to-lists:\" data-toc-modified-id=\"converting-strings-to-lists:-2.8\"><span class=\"toc-item-num\">2.8&nbsp;&nbsp;</span>converting strings to lists:</a></span></li><li><span><a href=\"#Assign-different-data-types-to-a-varibles\" data-toc-modified-id=\"Assign-different-data-types-to-a-varibles-2.9\"><span class=\"toc-item-num\">2.9&nbsp;&nbsp;</span>Assign different data types to a varibles</a></span></li></ul></li><li><span><a href=\"#Section---3\" data-toc-modified-id=\"Section---3-3\"><span class=\"toc-item-num\">3&nbsp;&nbsp;</span>Section - 3</a></span><ul class=\"toc-item\"><li><span><a href=\"#Print-out-a-string-that-uses-a-formatter\" data-toc-modified-id=\"Print-out-a-string-that-uses-a-formatter-3.1\"><span class=\"toc-item-num\">3.1&nbsp;&nbsp;</span>Print out a string that uses a formatter</a></span></li><li><span><a href=\"#We-can-also-assign-a-variable-to-be-equal-to-the-value-of-a-string-that-has-formatter-placeholders:\" data-toc-modified-id=\"We-can-also-assign-a-variable-to-be-equal-to-the-value-of-a-string-that-has-formatter-placeholders:-3.2\"><span class=\"toc-item-num\">3.2&nbsp;&nbsp;</span>We can also assign a variable to be equal to the value of a string that has formatter placeholders:</a></span></li><li><span><a href=\"#Using-Formatters-with-Multiple-Placeholders\" data-toc-modified-id=\"Using-Formatters-with-Multiple-Placeholders-3.3\"><span class=\"toc-item-num\">3.3&nbsp;&nbsp;</span>Using Formatters with Multiple Placeholders</a></span></li><li><span><a href=\"#Reordering-Formatters-with-Positional-and-Keyword-Arguments\" data-toc-modified-id=\"Reordering-Formatters-with-Positional-and-Keyword-Arguments-3.4\"><span class=\"toc-item-num\">3.4&nbsp;&nbsp;</span>Reordering Formatters with Positional and Keyword Arguments</a></span></li><li><span><a href=\"#We-can-pass-these-index-numbers-into-the-curly-braces-that-serve-as-the-placeholders-in-the-original-string:\" data-toc-modified-id=\"We-can-pass-these-index-numbers-into-the-curly-braces-that-serve-as-the-placeholders-in-the-original-string:-3.5\"><span class=\"toc-item-num\">3.5&nbsp;&nbsp;</span>We can pass these index numbers into the curly braces that serve as the placeholders in the original string:</a></span></li><li><span><a href=\"#Python-Program-to-Get-String-Input-from-User\" data-toc-modified-id=\"Python-Program-to-Get-String-Input-from-User-3.6\"><span class=\"toc-item-num\">3.6&nbsp;&nbsp;</span>Python Program to Get String Input from User</a></span></li><li><span><a href=\"#Python-program-for-conditional-statements\" data-toc-modified-id=\"Python-program-for-conditional-statements-3.7\"><span class=\"toc-item-num\">3.7&nbsp;&nbsp;</span>Python program for conditional statements</a></span></li><li><span><a href=\"#1)If-the-student-receives-over-65%-on-her-test,-report-that-her-grade-passes;-if-not,-report-that-her-grade-fails\" data-toc-modified-id=\"1)If-the-student-receives-over-65%-on-her-test,-report-that-her-grade-passes;-if-not,-report-that-her-grade-fails-3.8\"><span class=\"toc-item-num\">3.8&nbsp;&nbsp;</span>1)If the student receives over 65% on her test, report that her grade passes; if not, report that her grade fails</a></span></li><li><span><a href=\"#Write-a-python-program-calculate-whether-a-bank-account-balance-is-below-0.\" data-toc-modified-id=\"Write-a-python-program-calculate-whether-a-bank-account-balance-is-below-0.-3.9\"><span class=\"toc-item-num\">3.9&nbsp;&nbsp;</span>Write a python program calculate whether a bank account balance is below 0.</a></span></li><li><span><a href=\"#Using-Else-if-statement\" data-toc-modified-id=\"Using-Else-if-statement-3.10\"><span class=\"toc-item-num\">3.10&nbsp;&nbsp;</span>Using Else if statement</a></span></li><li><span><a href=\"#Python-program-to-print--Fibonacci-series-between-0-to-50.\" data-toc-modified-id=\"Python-program-to-print--Fibonacci-series-between-0-to-50.-3.11\"><span class=\"toc-item-num\">3.11&nbsp;&nbsp;</span>Python program to print  Fibonacci series between 0 to 50.</a></span></li><li><span><a href=\"#Python-program-to-find-numbers-which-are-divisible-by-7-and-multiple-of-5-between-a-range-150-to-270\" data-toc-modified-id=\"Python-program-to-find-numbers-which-are-divisible-by-7-and-multiple-of-5-between-a-range-150-to-270-3.12\"><span class=\"toc-item-num\">3.12&nbsp;&nbsp;</span>Python program to find numbers which are divisible by 7 and multiple of 5 between a range 150 to 270</a></span></li><li><span><a href=\"#Python-program-to-Sum-all-the-items-in-a-list\" data-toc-modified-id=\"Python-program-to-Sum-all-the-items-in-a-list-3.13\"><span class=\"toc-item-num\">3.13&nbsp;&nbsp;</span>Python program to Sum all the items in a list</a></span></li><li><span><a href=\"#Python-program-to-Remove-duplicates-from-a-list.\" data-toc-modified-id=\"Python-program-to-Remove-duplicates-from-a-list.-3.14\"><span class=\"toc-item-num\">3.14&nbsp;&nbsp;</span>Python program to Remove duplicates from a list.</a></span></li><li><span><a href=\"#Python-program-to-Get-the-largest-number-from-a-list.\" data-toc-modified-id=\"Python-program-to-Get-the-largest-number-from-a-list.-3.15\"><span class=\"toc-item-num\">3.15&nbsp;&nbsp;</span>Python program to Get the largest number from a list.</a></span></li><li><span><a href=\"#Concatenation-of-Tuples.\" data-toc-modified-id=\"Concatenation-of-Tuples.-3.16\"><span class=\"toc-item-num\">3.16&nbsp;&nbsp;</span>Concatenation of Tuples.</a></span></li><li><span><a href=\"#Nesting-of-Tuples.\" data-toc-modified-id=\"Nesting-of-Tuples.-3.17\"><span class=\"toc-item-num\">3.17&nbsp;&nbsp;</span>Nesting of Tuples.</a></span></li><li><span><a href=\"#Write-a-Python-program-to-add-an-item-in-a-tuple.\" data-toc-modified-id=\"Write-a-Python-program-to-add-an-item-in-a-tuple.-3.18\"><span class=\"toc-item-num\">3.18&nbsp;&nbsp;</span>Write a Python program to add an item in a tuple.</a></span></li><li><span><a href=\"#Write-a-Python-program-to-remove-an-item-from-a-tuple.\" data-toc-modified-id=\"Write-a-Python-program-to-remove-an-item-from-a-tuple.-3.19\"><span class=\"toc-item-num\">3.19&nbsp;&nbsp;</span>Write a Python program to remove an item from a tuple.</a></span></li><li><span><a href=\"#Python-Program-to-Check-if-a-given-key-already-exists-in-a-dictionary.\" data-toc-modified-id=\"Python-Program-to-Check-if-a-given-key-already-exists-in-a-dictionary.-3.20\"><span class=\"toc-item-num\">3.20&nbsp;&nbsp;</span>Python Program to Check if a given key already exists in a dictionary.</a></span></li><li><span><a href=\"#Write-a-Python-script-to-merge-two-Python-dictionaries.\" data-toc-modified-id=\"Write-a-Python-script-to-merge-two-Python-dictionaries.-3.21\"><span class=\"toc-item-num\">3.21&nbsp;&nbsp;</span>Write a Python script to merge two Python dictionaries.</a></span></li><li><span><a href=\"#Write-a-Python-function-to-find-the-Max-of-three-numbers.\" data-toc-modified-id=\"Write-a-Python-function-to-find-the-Max-of-three-numbers.-3.22\"><span class=\"toc-item-num\">3.22&nbsp;&nbsp;</span>Write a Python function to find the Max of three numbers.</a></span></li><li><span><a href=\"#Write-a-Python-program-to-reverse-a-string.\" data-toc-modified-id=\"Write-a-Python-program-to-reverse-a-string.-3.23\"><span class=\"toc-item-num\">3.23&nbsp;&nbsp;</span>Write a Python program to reverse a string.</a></span></li><li><span><a href=\"#Write-a-Python-function-to-calculate-the-factorial-of-a-number\" data-toc-modified-id=\"Write-a-Python-function-to-calculate-the-factorial-of-a-number-3.24\"><span class=\"toc-item-num\">3.24&nbsp;&nbsp;</span>Write a Python function to calculate the factorial of a number</a></span></li><li><span><a href=\"#Write-a-Python-function-to-sum-all-the-numbers-in-a-list.\" data-toc-modified-id=\"Write-a-Python-function-to-sum-all-the-numbers-in-a-list.-3.25\"><span class=\"toc-item-num\">3.25&nbsp;&nbsp;</span>Write a Python function to sum all the numbers in a list.</a></span></li><li><span><a href=\"#Write-a-Python-function-to-check-whether-a-number-is-in-a-given-range.\" data-toc-modified-id=\"Write-a-Python-function-to-check-whether-a-number-is-in-a-given-range.-3.26\"><span class=\"toc-item-num\">3.26&nbsp;&nbsp;</span>Write a Python function to check whether a number is in a given range.</a></span></li><li><span><a href=\"#Find-the-value-of-pi-using-math-module.\" data-toc-modified-id=\"Find-the-value-of-pi-using-math-module.-3.27\"><span class=\"toc-item-num\">3.27&nbsp;&nbsp;</span>Find the value of pi using math module.</a></span></li><li><span><a href=\"#Write-a-Python-program-to-read-an-entire-text-file.\" data-toc-modified-id=\"Write-a-Python-program-to-read-an-entire-text-file.-3.28\"><span class=\"toc-item-num\">3.28&nbsp;&nbsp;</span>Write a Python program to read an entire text file.</a></span></li><li><span><a href=\"#Content-of-text.txt.\" data-toc-modified-id=\"Content-of-text.txt.-3.29\"><span class=\"toc-item-num\">3.29&nbsp;&nbsp;</span>Content of text.txt.</a></span></li><li><span><a href=\"#What-is-Python-language?\" data-toc-modified-id=\"What-is-Python-language?-3.30\"><span class=\"toc-item-num\">3.30&nbsp;&nbsp;</span>What is Python language?</a></span></li><li><span><a href=\"#Write-a-Python-program-to-read-a-file-line-by-line-and-store-it-into-a-list.\" data-toc-modified-id=\"Write-a-Python-program-to-read-a-file-line-by-line-and-store-it-into-a-list.-3.31\"><span class=\"toc-item-num\">3.31&nbsp;&nbsp;</span>Write a Python program to read a file line by line and store it into a list.</a></span></li><li><span><a href=\"#A-python-program-to-create-user-defined-exception.\" data-toc-modified-id=\"A-python-program-to-create-user-defined-exception.-3.32\"><span class=\"toc-item-num\">3.32&nbsp;&nbsp;</span>A python program to create user-defined exception.</a></span></li><li><span><a href=\"#Write-a-Python-program-to-calculate-the-discriminant-value.\" data-toc-modified-id=\"Write-a-Python-program-to-calculate-the-discriminant-value.-3.33\"><span class=\"toc-item-num\">3.33&nbsp;&nbsp;</span>Write a Python program to calculate the discriminant value.</a></span></li></ul></li></ul></div>"
   ]
  },
  {
   "cell_type": "markdown",
   "metadata": {},
   "source": [
    "# Python Basics Program Practice "
   ]
  },
  {
   "cell_type": "markdown",
   "metadata": {},
   "source": [
    "## Section - 1"
   ]
  },
  {
   "cell_type": "markdown",
   "metadata": {
    "collapsed": true
   },
   "source": [
    "### Write a Python program to print the following string\n",
    "\n",
    "Sample String: \"Welcome to Self Learning Program\"\n",
    "\n"
   ]
  },
  {
   "cell_type": "code",
   "execution_count": 1,
   "metadata": {},
   "outputs": [
    {
     "name": "stdout",
     "output_type": "stream",
     "text": [
      "Welcome to Self Learning Program\n"
     ]
    }
   ],
   "source": [
    "print(\"Welcome to Self Learning Program\")"
   ]
  },
  {
   "cell_type": "markdown",
   "metadata": {},
   "source": [
    "In a “Hello, World!” program, a comment may look like this:"
   ]
  },
  {
   "cell_type": "code",
   "execution_count": 2,
   "metadata": {},
   "outputs": [
    {
     "name": "stdout",
     "output_type": "stream",
     "text": [
      "Hello, World!\n"
     ]
    }
   ],
   "source": [
    "# Print “Hello, World!” to console\n",
    "print(\"Hello, World!\")"
   ]
  },
  {
   "cell_type": "code",
   "execution_count": 4,
   "metadata": {},
   "outputs": [
    {
     "name": "stdout",
     "output_type": "stream",
     "text": [
      "hammer\n",
      "white\n",
      "fish\n",
      "frilled\n",
      "bullhead\n",
      "requiem\n"
     ]
    }
   ],
   "source": [
    "# Define sharks variable as a list of strings\n",
    "list_sample = ['hammer', 'white', 'fish', 'frilled', 'bullhead', 'requiem']\n",
    "\n",
    "# For loop that iterates over sharks list and prints each string item\n",
    "for sample in list_sample:\n",
    "    print(sample)"
   ]
  },
  {
   "cell_type": "markdown",
   "metadata": {},
   "source": [
    "### Write a Python Program to Add Two Numbers"
   ]
  },
  {
   "cell_type": "code",
   "execution_count": 5,
   "metadata": {},
   "outputs": [
    {
     "name": "stdout",
     "output_type": "stream",
     "text": [
      "the sum of a and b is 8\n"
     ]
    }
   ],
   "source": [
    "# initialise two varaibles\n",
    "a = 5\n",
    "b = 3\n",
    "# Add two numbers\n",
    "sum = a + b\n",
    "\n",
    "# Display the sum\n",
    "print(\"the sum of a and b is {}\" .format(sum))"
   ]
  },
  {
   "cell_type": "markdown",
   "metadata": {},
   "source": [
    "### Write a Python Program to Find the product of two numbers"
   ]
  },
  {
   "cell_type": "code",
   "execution_count": 5,
   "metadata": {},
   "outputs": [
    {
     "name": "stdout",
     "output_type": "stream",
     "text": [
      "the product of a and b is 15\n"
     ]
    }
   ],
   "source": [
    "# initialise two varaibles\n",
    "a = 5\n",
    "b = 3\n",
    "# multiply two numbers\n",
    "c = a * b\n",
    "\n",
    "# Display the sum\n",
    "print(\"the product of a and b is {}\" .format(c))"
   ]
  },
  {
   "cell_type": "markdown",
   "metadata": {},
   "source": [
    "### Write a python program to find the area of triangle given height and base of the triangle as 3 and 10."
   ]
  },
  {
   "cell_type": "code",
   "execution_count": 6,
   "metadata": {},
   "outputs": [
    {
     "name": "stdout",
     "output_type": "stream",
     "text": [
      "the product of a and b is 15.0\n"
     ]
    }
   ],
   "source": [
    "# Area of the triangle A= 1/2(base * height)\n",
    "\n",
    "#given height=3 and base =10\n",
    "\n",
    "h=3;\n",
    "\n",
    "b=10;\n",
    "\n",
    "area_of_triangle = 1/2 * (h* b);\n",
    "\n",
    "print(\"the product of a and b is {}\" .format(area_of_triangle))\n"
   ]
  },
  {
   "cell_type": "markdown",
   "metadata": {},
   "source": [
    "### Python Program to Swap Two Variables"
   ]
  },
  {
   "cell_type": "code",
   "execution_count": 7,
   "metadata": {},
   "outputs": [
    {
     "name": "stdout",
     "output_type": "stream",
     "text": [
      "The value of x after swapping: 3\n",
      "The value of y after swapping: 5\n"
     ]
    }
   ],
   "source": [
    "# initialise two varaibles\n",
    "a = 5\n",
    "b = 3\n",
    "\n",
    "# create a temporary variable and swap the values\n",
    "\n",
    "temp = a\n",
    "a = b\n",
    "b = temp\n",
    "\n",
    "print('The value of x after swapping: {}'.format(a))\n",
    "print('The value of y after swapping: {}'.format(b))"
   ]
  },
  {
   "cell_type": "markdown",
   "metadata": {},
   "source": [
    "## Section - 2"
   ]
  },
  {
   "cell_type": "markdown",
   "metadata": {
    "collapsed": true
   },
   "source": [
    "### Write a python program to print datatype of a varaible"
   ]
  },
  {
   "cell_type": "code",
   "execution_count": 8,
   "metadata": {},
   "outputs": [
    {
     "name": "stdout",
     "output_type": "stream",
     "text": [
      "1 is of type <class 'int'>\n",
      "1 is of type <class 'int'>\n",
      "1 is complex number? True\n"
     ]
    }
   ],
   "source": [
    "a = 1\n",
    "print(a, \"is of type\", type(a))\n",
    "\n",
    "b = 2.0\n",
    "print(a, \"is of type\", type(a))\n",
    "\n",
    "c = 1+2j\n",
    "print(a, \"is complex number?\", isinstance(1+2j,complex))"
   ]
  },
  {
   "cell_type": "markdown",
   "metadata": {},
   "source": [
    "### Write a python program to extract an item or a range of items from a list.\n",
    "\n"
   ]
  },
  {
   "cell_type": "code",
   "execution_count": 9,
   "metadata": {},
   "outputs": [
    {
     "name": "stdout",
     "output_type": "stream",
     "text": [
      "35\n",
      "[15, 20, 35]\n",
      "[30, 35, 60]\n",
      "[15, 20, 35, 40, 45, 30]\n"
     ]
    }
   ],
   "source": [
    "a = [15,20,35,40,45,30,35,60]\n",
    "\n",
    "print(a[2])\n",
    "\n",
    "print(a[0:3])\n",
    "\n",
    "print(a[5:])\n",
    "\n",
    "print(a[:6])"
   ]
  },
  {
   "cell_type": "markdown",
   "metadata": {},
   "source": [
    "### Converting Floats to Integers\n"
   ]
  },
  {
   "cell_type": "code",
   "execution_count": 10,
   "metadata": {},
   "outputs": [
    {
     "name": "stdout",
     "output_type": "stream",
     "text": [
      "125\n",
      "390\n"
     ]
    }
   ],
   "source": [
    "b = 125.0\n",
    "c = 390.8\n",
    "\n",
    "print(int(b))\n",
    "print(int(c))"
   ]
  },
  {
   "cell_type": "markdown",
   "metadata": {},
   "source": [
    "### Converting Numbers to Strings"
   ]
  },
  {
   "cell_type": "code",
   "execution_count": 11,
   "metadata": {},
   "outputs": [
    {
     "name": "stdout",
     "output_type": "stream",
     "text": [
      "10 is of type <class 'int'>\n",
      "10 is of type <class 'str'>\n"
     ]
    }
   ],
   "source": [
    "a = 10\n",
    "\n",
    "print(a, \"is of type\", type(a))\n",
    "\n",
    "b = str(a)\n",
    "\n",
    "print(b, \"is of type\", type(b))\n"
   ]
  },
  {
   "cell_type": "markdown",
   "metadata": {},
   "source": [
    "### Converting Strings to Numbers"
   ]
  },
  {
   "cell_type": "code",
   "execution_count": 12,
   "metadata": {},
   "outputs": [
    {
     "name": "stdout",
     "output_type": "stream",
     "text": [
      "-58\n"
     ]
    }
   ],
   "source": [
    "a = \"50\"\n",
    "b = \"108\"\n",
    "\n",
    "lines_more = int(a) - int(b)\n",
    "\n",
    "print(lines_more)"
   ]
  },
  {
   "cell_type": "markdown",
   "metadata": {},
   "source": [
    "### Converting list to Tuples"
   ]
  },
  {
   "cell_type": "code",
   "execution_count": 13,
   "metadata": {},
   "outputs": [
    {
     "name": "stdout",
     "output_type": "stream",
     "text": [
      "('request', 'source', 'repository', 'branch')\n"
     ]
    }
   ],
   "source": [
    "print(tuple(['request', 'source', 'repository', 'branch']))\n"
   ]
  },
  {
   "cell_type": "markdown",
   "metadata": {},
   "source": [
    "### Converting tuple to Lists"
   ]
  },
  {
   "cell_type": "code",
   "execution_count": 14,
   "metadata": {},
   "outputs": [
    {
     "name": "stdout",
     "output_type": "stream",
     "text": [
      "['blue', 'red', 'white']\n"
     ]
    }
   ],
   "source": [
    "print(list(('blue', 'red', 'white')))"
   ]
  },
  {
   "cell_type": "markdown",
   "metadata": {
    "collapsed": true
   },
   "source": [
    "### converting strings to lists:"
   ]
  },
  {
   "cell_type": "code",
   "execution_count": 15,
   "metadata": {},
   "outputs": [
    {
     "name": "stdout",
     "output_type": "stream",
     "text": [
      "['I', 'N', 'S', 'A', 'I', 'D']\n"
     ]
    }
   ],
   "source": [
    "print(list('INSAID'))"
   ]
  },
  {
   "cell_type": "markdown",
   "metadata": {},
   "source": [
    "### Assign different data types to a varibles"
   ]
  },
  {
   "cell_type": "code",
   "execution_count": 16,
   "metadata": {},
   "outputs": [],
   "source": [
    "my_string = 'Hello, World!'\n",
    "my_flt = 45.06\n",
    "my_bool = 5 > 9 #A Boolean value will return either True or False\n",
    "my_list = ['item_1', 'item_2', 'item_3', 'item_4']\n",
    "my_tuple = ('one', 'two', 'three')\n",
    "my_dict = {'letter': 'g', 'number': 'seven', 'symbol': '&'}"
   ]
  },
  {
   "cell_type": "markdown",
   "metadata": {},
   "source": [
    "## Section - 3"
   ]
  },
  {
   "cell_type": "markdown",
   "metadata": {
    "collapsed": true
   },
   "source": [
    "### Print out a string that uses a formatter"
   ]
  },
  {
   "cell_type": "code",
   "execution_count": 17,
   "metadata": {},
   "outputs": [
    {
     "name": "stdout",
     "output_type": "stream",
     "text": [
      "john has 5 cars.\n"
     ]
    }
   ],
   "source": [
    "print(\"john has {} cars.\".format(5))\n"
   ]
  },
  {
   "cell_type": "markdown",
   "metadata": {},
   "source": [
    "### We can also assign a variable to be equal to the value of a string that has formatter placeholders:"
   ]
  },
  {
   "cell_type": "code",
   "execution_count": 18,
   "metadata": {},
   "outputs": [
    {
     "name": "stdout",
     "output_type": "stream",
     "text": [
      "john likes open source.\n"
     ]
    }
   ],
   "source": [
    "open_string = \"john likes {}.\"\n",
    "\n",
    "print(open_string.format(\"open source\"))"
   ]
  },
  {
   "cell_type": "markdown",
   "metadata": {},
   "source": [
    "### Using Formatters with Multiple Placeholders"
   ]
  },
  {
   "cell_type": "code",
   "execution_count": 19,
   "metadata": {},
   "outputs": [
    {
     "name": "stdout",
     "output_type": "stream",
     "text": [
      "john likes open-source software.\n"
     ]
    }
   ],
   "source": [
    "new_open_string = \"john likes {} {}.\"                      #2 {} placeholders\n",
    "print(new_open_string.format(\"open-source\", \"software\"))    #Pass 2 strings into method, separated by a comma"
   ]
  },
  {
   "cell_type": "code",
   "execution_count": 20,
   "metadata": {},
   "outputs": [
    {
     "name": "stdout",
     "output_type": "stream",
     "text": [
      "john loves open-source software, and has 5 balloons.\n"
     ]
    }
   ],
   "source": [
    "sammy_string = \"john loves {} {}, and has {} {}.\"                      #4 {} placeholders\n",
    "print(sammy_string.format(\"open-source\", \"software\", 5, \"balloons\"))    #Pass 4 strings into method"
   ]
  },
  {
   "cell_type": "markdown",
   "metadata": {},
   "source": [
    "### Reordering Formatters with Positional and Keyword Arguments\n"
   ]
  },
  {
   "cell_type": "code",
   "execution_count": 21,
   "metadata": {},
   "outputs": [
    {
     "name": "stdout",
     "output_type": "stream",
     "text": [
      "john the shark has a pet pilot fish!\n"
     ]
    }
   ],
   "source": [
    "print(\"john the {} has a pet {}!\".format(\"shark\", \"pilot fish\"))"
   ]
  },
  {
   "cell_type": "markdown",
   "metadata": {},
   "source": [
    "### We can pass these index numbers into the curly braces that serve as the placeholders in the original string:"
   ]
  },
  {
   "cell_type": "code",
   "execution_count": 22,
   "metadata": {},
   "outputs": [
    {
     "name": "stdout",
     "output_type": "stream",
     "text": [
      "john the shark has a pet pilot fish!\n",
      "john is a happy, smiling, and blue shark!\n"
     ]
    }
   ],
   "source": [
    "\n",
    "print(\"john the {0} has a pet {1}!\".format(\"shark\", \"pilot fish\"))\n",
    "\n",
    "print(\"john is a {}, {}, and {} {}!\".format(\"happy\", \"smiling\", \"blue\", \"shark\"))\n"
   ]
  },
  {
   "cell_type": "markdown",
   "metadata": {},
   "source": [
    "### Python Program to Get String Input from User\n"
   ]
  },
  {
   "cell_type": "code",
   "execution_count": 23,
   "metadata": {},
   "outputs": [
    {
     "name": "stdout",
     "output_type": "stream",
     "text": [
      "Enter any string: hello\n",
      "hello\n"
     ]
    }
   ],
   "source": [
    "inputString = input(\"Enter any string: \")\n",
    "print(inputString)"
   ]
  },
  {
   "cell_type": "markdown",
   "metadata": {
    "collapsed": true
   },
   "source": [
    "### Python program for conditional statements\n",
    "\n",
    "### 1)If the student receives over 65% on her test, report that her grade passes; if not, report that her grade fails"
   ]
  },
  {
   "cell_type": "code",
   "execution_count": 24,
   "metadata": {},
   "outputs": [
    {
     "name": "stdout",
     "output_type": "stream",
     "text": [
      "Passing grade\n"
     ]
    }
   ],
   "source": [
    "grade = 70\n",
    "\n",
    "if grade >= 65:\n",
    "    print(\"Passing grade\")\n",
    "    \n",
    "    "
   ]
  },
  {
   "cell_type": "code",
   "execution_count": 25,
   "metadata": {},
   "outputs": [
    {
     "name": "stdout",
     "output_type": "stream",
     "text": [
      "Failing grade\n"
     ]
    }
   ],
   "source": [
    "grade = 60\n",
    "\n",
    "if grade >= 65:\n",
    "    print(\"Passing grade\")\n",
    "\n",
    "else:\n",
    "    print(\"Failing grade\")"
   ]
  },
  {
   "cell_type": "markdown",
   "metadata": {},
   "source": [
    "### Write a python program calculate whether a bank account balance is below 0."
   ]
  },
  {
   "cell_type": "code",
   "execution_count": 26,
   "metadata": {},
   "outputs": [
    {
     "name": "stdout",
     "output_type": "stream",
     "text": [
      "Your balance is 0 or above.\n"
     ]
    }
   ],
   "source": [
    "balance = 522\n",
    "\n",
    "if balance < 0:\n",
    "    print(\"Balance is below 0, add funds now or you will be charged a penalty.\")\n",
    "\n",
    "else:\n",
    "    print(\"Your balance is 0 or above.\")\n"
   ]
  },
  {
   "cell_type": "markdown",
   "metadata": {},
   "source": [
    "### Using Else if statement"
   ]
  },
  {
   "cell_type": "code",
   "execution_count": 27,
   "metadata": {},
   "outputs": [
    {
     "name": "stdout",
     "output_type": "stream",
     "text": [
      "Your balance is 0 or above.\n"
     ]
    }
   ],
   "source": [
    "balance = 522\n",
    "\n",
    "if balance < 0:\n",
    "    print(\"Balance is below 0, add funds now or you will be charged a penalty.\")\n",
    "\n",
    "elif balance == 0:\n",
    "    print(\"Balance is equal to 0, add funds soon.\")\n",
    "\n",
    "else:\n",
    "    print(\"Your balance is 0 or above.\")"
   ]
  },
  {
   "cell_type": "markdown",
   "metadata": {},
   "source": [
    "### Python program to print  Fibonacci series between 0 to 50."
   ]
  },
  {
   "cell_type": "code",
   "execution_count": 28,
   "metadata": {},
   "outputs": [
    {
     "name": "stdout",
     "output_type": "stream",
     "text": [
      "Fibonacci sequence upto 50 :\n",
      "0 , 1 , 1 , 2 , 3 , 5 , 8 , 13 , 21 , 34 , 55 , 89 , 144 , 233 , 377 , 610 , 987 , 1597 , 2584 , 4181 , 6765 , 10946 , 17711 , 28657 , 46368 , 75025 , 121393 , 196418 , 317811 , 514229 , 832040 , 1346269 , 2178309 , 3524578 , 5702887 , 9227465 , 14930352 , 24157817 , 39088169 , 63245986 , 102334155 , 165580141 , 267914296 , 433494437 , 701408733 , 1134903170 , 1836311903 , 2971215073 , 4807526976 , 7778742049 , "
     ]
    }
   ],
   "source": [
    "nterms = 50\n",
    "\n",
    "a = 0\n",
    "b = 1\n",
    "\n",
    "count = 0\n",
    "\n",
    "if nterms <= 0:\n",
    "   print(\"enter a positive integer\")\n",
    "elif nterms == 1:\n",
    "   print(\"Fibonacci sequence upto\",nterms,\":\")\n",
    "   print(n1)\n",
    "else:\n",
    "   print(\"Fibonacci sequence upto\",nterms,\":\")\n",
    "   while count < nterms:\n",
    "       print(a,end=' , ')\n",
    "       nth = a + b\n",
    "       # update values\n",
    "       a = b\n",
    "       b = nth\n",
    "       count=count+1\n"
   ]
  },
  {
   "cell_type": "markdown",
   "metadata": {},
   "source": [
    "### Python program to find numbers which are divisible by 7 and multiple of 5 between a range 150 to 270"
   ]
  },
  {
   "cell_type": "code",
   "execution_count": 29,
   "metadata": {},
   "outputs": [
    {
     "name": "stdout",
     "output_type": "stream",
     "text": [
      "175\n",
      "210\n",
      "245\n"
     ]
    }
   ],
   "source": [
    "for number in range(150,270):\n",
    "    if number %7==0 and number %5==0 :\n",
    "        print(number)"
   ]
  },
  {
   "cell_type": "markdown",
   "metadata": {},
   "source": [
    "### Python program to Sum all the items in a list"
   ]
  },
  {
   "cell_type": "code",
   "execution_count": 30,
   "metadata": {},
   "outputs": [
    {
     "name": "stdout",
     "output_type": "stream",
     "text": [
      "74\n"
     ]
    }
   ],
   "source": [
    "def sum_list(items):\n",
    "    sum_numbers = 0\n",
    "    for x in items:\n",
    "        sum_numbers += x\n",
    "    return sum_numbers\n",
    "\n",
    "print(sum_list([20,12,20,22]))"
   ]
  },
  {
   "cell_type": "markdown",
   "metadata": {},
   "source": [
    "### Python program to Remove duplicates from a list."
   ]
  },
  {
   "cell_type": "code",
   "execution_count": 31,
   "metadata": {},
   "outputs": [
    {
     "name": "stdout",
     "output_type": "stream",
     "text": [
      "{70, 40, 10, 80, 50, 20, 60, 30}\n"
     ]
    }
   ],
   "source": [
    "a = [10,20,30,40,50,60,70,40,80,50,40]\n",
    "\n",
    "dup_items = set()\n",
    "uniq_items = []\n",
    "for x in a:\n",
    "    if x not in dup_items:\n",
    "        uniq_items.append(x)\n",
    "        dup_items.add(x)\n",
    "\n",
    "print(dup_items)"
   ]
  },
  {
   "cell_type": "markdown",
   "metadata": {},
   "source": [
    "### Python program to Get the largest number from a list."
   ]
  },
  {
   "cell_type": "code",
   "execution_count": 32,
   "metadata": {},
   "outputs": [
    {
     "name": "stdout",
     "output_type": "stream",
     "text": [
      "28\n"
     ]
    }
   ],
   "source": [
    "def max_num_in_list( list ):\n",
    "    max = list[ 0 ]\n",
    "    for a in list:\n",
    "        if a > max:\n",
    "            max = a\n",
    "    return max\n",
    "print(max_num_in_list([1, 12, 28, 0]))"
   ]
  },
  {
   "cell_type": "markdown",
   "metadata": {},
   "source": [
    "### Concatenation of Tuples."
   ]
  },
  {
   "cell_type": "code",
   "execution_count": 33,
   "metadata": {},
   "outputs": [
    {
     "name": "stdout",
     "output_type": "stream",
     "text": [
      "(0, 1, 2, 3, 'python', 'code')\n"
     ]
    }
   ],
   "source": [
    "# Code for concatenating 2 tuples\n",
    " \n",
    "tuple1 = (0, 1, 2, 3)\n",
    "tuple2 = ('python', 'code')\n",
    " \n",
    "# Concatenating above two\n",
    "print(tuple1 + tuple2)"
   ]
  },
  {
   "cell_type": "markdown",
   "metadata": {},
   "source": [
    "### Nesting of Tuples."
   ]
  },
  {
   "cell_type": "code",
   "execution_count": 34,
   "metadata": {},
   "outputs": [
    {
     "name": "stdout",
     "output_type": "stream",
     "text": [
      "((0, 1, 2, 3), ('python', 'code'))\n"
     ]
    }
   ],
   "source": [
    "# Code for creating nested tuples\n",
    " \n",
    "tuple1 = (0, 1, 2, 3)\n",
    "tuple2 = ('python', 'code')\n",
    "tuple3 = (tuple1, tuple2)\n",
    "print(tuple3)\n"
   ]
  },
  {
   "cell_type": "markdown",
   "metadata": {},
   "source": [
    "### Write a Python program to add an item in a tuple."
   ]
  },
  {
   "cell_type": "code",
   "execution_count": 35,
   "metadata": {},
   "outputs": [
    {
     "name": "stdout",
     "output_type": "stream",
     "text": [
      "(4, 6, 2, 8, 3, 1)\n",
      "(4, 6, 2, 8, 3, 1, 15, 20, 25)\n"
     ]
    }
   ],
   "source": [
    "#create a tuple\n",
    "tuplex = (4, 6, 2, 8, 3, 1) \n",
    "print(tuplex)\n",
    "#tuples are immutable, so you can not add new elements\n",
    "#using merge of tuples with the + operator you can add an element and it will create a new tuple\n",
    "\n",
    "#adding items in a specific index\n",
    "tuplex = tuplex[:6] + (15, 20, 25)\n",
    "print(tuplex)\n"
   ]
  },
  {
   "cell_type": "markdown",
   "metadata": {},
   "source": [
    "### Write a Python program to remove an item from a tuple."
   ]
  },
  {
   "cell_type": "code",
   "execution_count": 36,
   "metadata": {},
   "outputs": [
    {
     "name": "stdout",
     "output_type": "stream",
     "text": [
      "('D', 'S', 'P', 'J')\n"
     ]
    }
   ],
   "source": [
    "#create a tuple\n",
    "tuplex = \"I\", \"D\", \"S\", \"P\", \"J\"\n",
    "listx = list(tuplex) \n",
    "#use different ways to remove an item of the list\n",
    "listx.remove(\"I\")\n",
    "tuplex = tuple(listx)\n",
    "print(tuplex)"
   ]
  },
  {
   "cell_type": "markdown",
   "metadata": {},
   "source": [
    "### Python Program to Check if a given key already exists in a dictionary."
   ]
  },
  {
   "cell_type": "code",
   "execution_count": 37,
   "metadata": {},
   "outputs": [
    {
     "name": "stdout",
     "output_type": "stream",
     "text": [
      "Key is present in the dictionary\n",
      "Key is not present in the dictionary\n"
     ]
    }
   ],
   "source": [
    "d = {1: 10, 2: 20, 3: 30, 4: 40, 5: 50, 6: 60}\n",
    "def is_key_present(x):\n",
    "  if x in d:\n",
    "      print('Key is present in the dictionary')\n",
    "  else:\n",
    "      print('Key is not present in the dictionary')\n",
    "is_key_present(5)\n",
    "is_key_present(9)"
   ]
  },
  {
   "cell_type": "markdown",
   "metadata": {},
   "source": [
    "### Write a Python script to merge two Python dictionaries."
   ]
  },
  {
   "cell_type": "code",
   "execution_count": 38,
   "metadata": {},
   "outputs": [
    {
     "name": "stdout",
     "output_type": "stream",
     "text": [
      "{'a': 100, 'b': 200, 'x': 300, 'y': 200}\n"
     ]
    }
   ],
   "source": [
    "d1 = {'a': 100, 'b': 200}\n",
    "d2 = {'x': 300, 'y': 200}\n",
    "d = d1.copy()\n",
    "d.update(d2)\n",
    "print(d)"
   ]
  },
  {
   "cell_type": "markdown",
   "metadata": {},
   "source": [
    "### Write a Python function to find the Max of three numbers."
   ]
  },
  {
   "cell_type": "code",
   "execution_count": 39,
   "metadata": {},
   "outputs": [
    {
     "name": "stdout",
     "output_type": "stream",
     "text": [
      "26\n"
     ]
    }
   ],
   "source": [
    "def max_of_two( x, y ):\n",
    "    if x > y:\n",
    "        return x\n",
    "    return y\n",
    "def max_of_three( x, y, z ):\n",
    "    return max_of_two( x, max_of_two( y, z ) )\n",
    "print(max_of_three(13, 26, -5))"
   ]
  },
  {
   "cell_type": "markdown",
   "metadata": {
    "collapsed": true
   },
   "source": [
    "### Write a Python program to reverse a string."
   ]
  },
  {
   "cell_type": "code",
   "execution_count": 40,
   "metadata": {},
   "outputs": [
    {
     "name": "stdout",
     "output_type": "stream",
     "text": [
      "DIASNI\n"
     ]
    }
   ],
   "source": [
    "def string_reverse(str1):\n",
    "\n",
    "    rstr1 = ''\n",
    "    index = len(str1)\n",
    "    while index > 0:\n",
    "        rstr1 += str1[ index - 1 ]\n",
    "        index = index - 1\n",
    "    return rstr1\n",
    "print(string_reverse('INSAID'))"
   ]
  },
  {
   "cell_type": "markdown",
   "metadata": {
    "collapsed": true
   },
   "source": [
    "### Write a Python function to calculate the factorial of a number "
   ]
  },
  {
   "cell_type": "code",
   "execution_count": 41,
   "metadata": {},
   "outputs": [
    {
     "name": "stdout",
     "output_type": "stream",
     "text": [
      "Input a number to compute the factiorial : 5\n",
      "120\n"
     ]
    }
   ],
   "source": [
    "def factorial(n):\n",
    "    if n == 0:\n",
    "        return 1\n",
    "    else:\n",
    "        return n * factorial(n-1)\n",
    "n=int(input(\"Input a number to compute the factiorial : \"))\n",
    "print(factorial(n))"
   ]
  },
  {
   "cell_type": "markdown",
   "metadata": {},
   "source": [
    "### Write a Python function to sum all the numbers in a list."
   ]
  },
  {
   "cell_type": "code",
   "execution_count": 42,
   "metadata": {},
   "outputs": [
    {
     "name": "stdout",
     "output_type": "stream",
     "text": [
      "20\n"
     ]
    }
   ],
   "source": [
    "def sum(numbers):\n",
    "    total = 0\n",
    "    for x in numbers:\n",
    "        total += x\n",
    "    return total\n",
    "print(sum((8, 2, 3, 0, 7)))"
   ]
  },
  {
   "cell_type": "markdown",
   "metadata": {
    "collapsed": true
   },
   "source": [
    "### Write a Python function to check whether a number is in a given range."
   ]
  },
  {
   "cell_type": "code",
   "execution_count": 43,
   "metadata": {},
   "outputs": [
    {
     "name": "stdout",
     "output_type": "stream",
     "text": [
      " 5 is in the range\n"
     ]
    }
   ],
   "source": [
    "def test_range(n):\n",
    "    if n in range(3,9):        # 3<=5 and 9>=5\n",
    "        print( \" %s is in the range\" % n)\n",
    "    else :\n",
    "        print(\"The number is outside the given range.\")\n",
    "test_range(5)"
   ]
  },
  {
   "cell_type": "markdown",
   "metadata": {},
   "source": [
    "### Find the value of pi using math module."
   ]
  },
  {
   "cell_type": "code",
   "execution_count": 1,
   "metadata": {},
   "outputs": [
    {
     "name": "stdout",
     "output_type": "stream",
     "text": [
      "The value of pi is 3.141592653589793\n"
     ]
    }
   ],
   "source": [
    "# import statement example\n",
    "# to import standard module math\n",
    "\n",
    "import math\n",
    "print(\"The value of pi is\", math.pi)"
   ]
  },
  {
   "cell_type": "markdown",
   "metadata": {},
   "source": [
    "### Write a Python program to read an entire text file.\n",
    "\n",
    "### Content of text.txt.\n",
    "\n",
    "### What is Python language?      \n",
    "\n",
    " **Python is a widely used high-level, general-purpose, interpreted, dynamic programming language.**"
   ]
  },
  {
   "cell_type": "code",
   "execution_count": 46,
   "metadata": {},
   "outputs": [
    {
     "name": "stdout",
     "output_type": "stream",
     "text": [
      "Hello I am Suchit\n",
      "I shall be your host for the GCD course.\n",
      "Reach out to me for any concerns\n"
     ]
    }
   ],
   "source": [
    "def file_read(fname):\n",
    "        txt = open(fname)\n",
    "        print(txt.read())\n",
    "\n",
    "file_read('test.txt')"
   ]
  },
  {
   "cell_type": "markdown",
   "metadata": {
    "collapsed": true
   },
   "source": [
    "### Write a Python program to read a file line by line and store it into a list."
   ]
  },
  {
   "cell_type": "code",
   "execution_count": 8,
   "metadata": {},
   "outputs": [
    {
     "ename": "FileNotFoundError",
     "evalue": "[Errno 2] No such file or directory: 'test.txt'",
     "output_type": "error",
     "traceback": [
      "\u001b[1;31m---------------------------------------------------------------------------\u001b[0m",
      "\u001b[1;31mFileNotFoundError\u001b[0m                         Traceback (most recent call last)",
      "\u001b[1;32m<ipython-input-8-9898ee9848c7>\u001b[0m in \u001b[0;36m<module>\u001b[1;34m\u001b[0m\n\u001b[0;32m      5\u001b[0m                 \u001b[0mprint\u001b[0m\u001b[1;33m(\u001b[0m\u001b[0mcontent_list\u001b[0m\u001b[1;33m)\u001b[0m\u001b[1;33m\u001b[0m\u001b[1;33m\u001b[0m\u001b[0m\n\u001b[0;32m      6\u001b[0m \u001b[1;33m\u001b[0m\u001b[0m\n\u001b[1;32m----> 7\u001b[1;33m \u001b[0mfile_read\u001b[0m\u001b[1;33m(\u001b[0m\u001b[1;34m'test.txt'\u001b[0m\u001b[1;33m)\u001b[0m\u001b[1;33m\u001b[0m\u001b[1;33m\u001b[0m\u001b[0m\n\u001b[0m",
      "\u001b[1;32m<ipython-input-8-9898ee9848c7>\u001b[0m in \u001b[0;36mfile_read\u001b[1;34m(fname)\u001b[0m\n\u001b[0;32m      1\u001b[0m \u001b[1;32mdef\u001b[0m \u001b[0mfile_read\u001b[0m\u001b[1;33m(\u001b[0m\u001b[0mfname\u001b[0m\u001b[1;33m)\u001b[0m\u001b[1;33m:\u001b[0m\u001b[1;33m\u001b[0m\u001b[1;33m\u001b[0m\u001b[0m\n\u001b[1;32m----> 2\u001b[1;33m         \u001b[1;32mwith\u001b[0m \u001b[0mopen\u001b[0m\u001b[1;33m(\u001b[0m\u001b[0mfname\u001b[0m\u001b[1;33m)\u001b[0m \u001b[1;32mas\u001b[0m \u001b[0mf\u001b[0m\u001b[1;33m:\u001b[0m\u001b[1;33m\u001b[0m\u001b[1;33m\u001b[0m\u001b[0m\n\u001b[0m\u001b[0;32m      3\u001b[0m                 \u001b[1;31m#Content_list is the list that contains the read lines.\u001b[0m\u001b[1;33m\u001b[0m\u001b[1;33m\u001b[0m\u001b[1;33m\u001b[0m\u001b[0m\n\u001b[0;32m      4\u001b[0m                 \u001b[0mcontent_list\u001b[0m \u001b[1;33m=\u001b[0m \u001b[0mf\u001b[0m\u001b[1;33m.\u001b[0m\u001b[0mreadlines\u001b[0m\u001b[1;33m(\u001b[0m\u001b[1;33m)\u001b[0m\u001b[1;33m\u001b[0m\u001b[1;33m\u001b[0m\u001b[0m\n\u001b[0;32m      5\u001b[0m                 \u001b[0mprint\u001b[0m\u001b[1;33m(\u001b[0m\u001b[0mcontent_list\u001b[0m\u001b[1;33m)\u001b[0m\u001b[1;33m\u001b[0m\u001b[1;33m\u001b[0m\u001b[0m\n",
      "\u001b[1;31mFileNotFoundError\u001b[0m: [Errno 2] No such file or directory: 'test.txt'"
     ]
    }
   ],
   "source": [
    "def file_read(fname):\n",
    "        with open(fname) as f:\n",
    "                #Content_list is the list that contains the read lines.     \n",
    "                content_list = f.readlines()\n",
    "                print(content_list)\n",
    "\n",
    "file_read('test.txt')"
   ]
  },
  {
   "cell_type": "markdown",
   "metadata": {},
   "source": [
    "### A python program to create user-defined exception."
   ]
  },
  {
   "cell_type": "code",
   "execution_count": 10,
   "metadata": {},
   "outputs": [
    {
     "ename": "MyError",
     "evalue": "Suchit says a New Exception occured:  0.42857142857142855",
     "output_type": "error",
     "traceback": [
      "\u001b[1;31m---------------------------------------------------------------------------\u001b[0m",
      "\u001b[1;31mMyError\u001b[0m                                   Traceback (most recent call last)",
      "\u001b[1;32m<ipython-input-10-591422216e79>\u001b[0m in \u001b[0;36m<module>\u001b[1;34m\u001b[0m\n\u001b[0;32m     15\u001b[0m \u001b[1;31m#     print(error)\u001b[0m\u001b[1;33m\u001b[0m\u001b[1;33m\u001b[0m\u001b[1;33m\u001b[0m\u001b[0m\n\u001b[0;32m     16\u001b[0m '''\n\u001b[1;32m---> 17\u001b[1;33m \u001b[1;32mraise\u001b[0m\u001b[1;33m(\u001b[0m\u001b[0mMyError\u001b[0m\u001b[1;33m(\u001b[0m\u001b[1;36m3\u001b[0m\u001b[1;33m/\u001b[0m\u001b[1;36m7\u001b[0m\u001b[1;33m)\u001b[0m\u001b[1;33m)\u001b[0m\u001b[1;33m\u001b[0m\u001b[1;33m\u001b[0m\u001b[0m\n\u001b[0m",
      "\u001b[1;31mMyError\u001b[0m: Suchit says a New Exception occured:  0.42857142857142855"
     ]
    }
   ],
   "source": [
    "class MyError(Exception):\n",
    " \n",
    "    # Constructor or Initializer\n",
    "    def __init__(self, value):\n",
    "        self.value = value\n",
    " \n",
    "    # __str__ is to print() the value\n",
    "    def __str__(self):\n",
    "        return('Suchit says a New Exception occured:  '+repr(self.value))\n",
    "''' \n",
    "# try:\n",
    "#     raise(MyError(3/7))\n",
    " \n",
    "# except MyError as error:\n",
    "#     print(error)\n",
    "'''\n",
    "raise(MyError(3/7))"
   ]
  },
  {
   "cell_type": "markdown",
   "metadata": {},
   "source": [
    "### Write a Python program to calculate the discriminant value."
   ]
  },
  {
   "cell_type": "code",
   "execution_count": 10,
   "metadata": {},
   "outputs": [
    {
     "name": "stdout",
     "output_type": "stream",
     "text": [
      "The a value: 10\n",
      "The b value: 25\n",
      "The c value: 2\n",
      "Two Solutions. Discriminant value is: 545.0\n"
     ]
    }
   ],
   "source": [
    "def discriminant():\n",
    "    a_value = float(input('The a value: '))\n",
    "    b_value = float(input('The b value: '))\n",
    "    c_value = float(input('The c value: '))\n",
    "    discriminant = (b_value**2) - (4*a_value*c_value)\n",
    "    if discriminant > 0:\n",
    "        print('Two Solutions. Discriminant value is:', discriminant)\n",
    "    elif discriminant == 0:\n",
    "        print('One Solution. Discriminant value is:', discriminant)\n",
    "    elif discriminant < 0:\n",
    "        print('No Real Solutions. Discriminant value is:', discriminant)\n",
    "\n",
    "\n",
    "discriminant()\n"
   ]
  },
  {
   "cell_type": "code",
   "execution_count": 50,
   "metadata": {},
   "outputs": [
    {
     "name": "stdout",
     "output_type": "stream",
     "text": [
      "Hello World\n"
     ]
    }
   ],
   "source": [
    "print('Hello World')"
   ]
  },
  {
   "cell_type": "code",
   "execution_count": 51,
   "metadata": {},
   "outputs": [
    {
     "name": "stdout",
     "output_type": "stream",
     "text": [
      "What am I typing are you able to see?\n"
     ]
    }
   ],
   "source": [
    "print('What am I typing are you able to see?')"
   ]
  }
 ],
 "metadata": {
  "kernelspec": {
   "display_name": "Python 3",
   "language": "python",
   "name": "python3"
  },
  "language_info": {
   "codemirror_mode": {
    "name": "ipython",
    "version": 3
   },
   "file_extension": ".py",
   "mimetype": "text/x-python",
   "name": "python",
   "nbconvert_exporter": "python",
   "pygments_lexer": "ipython3",
   "version": "3.7.4"
  },
  "toc": {
   "base_numbering": 1,
   "nav_menu": {},
   "number_sections": true,
   "sideBar": true,
   "skip_h1_title": true,
   "title_cell": "Table of Contents",
   "title_sidebar": "Contents",
   "toc_cell": true,
   "toc_position": {},
   "toc_section_display": true,
   "toc_window_display": false
  }
 },
 "nbformat": 4,
 "nbformat_minor": 2
}
