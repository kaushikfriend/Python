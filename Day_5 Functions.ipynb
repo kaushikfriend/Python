{
 "cells": [
  {
   "cell_type": "markdown",
   "metadata": {
    "toc": true
   },
   "source": [
    "<h1>Table of Contents<span class=\"tocSkip\"></span></h1>\n",
    "<div class=\"toc\"><ul class=\"toc-item\"><li><span><a href=\"#Functions\" data-toc-modified-id=\"Functions-1\"><span class=\"toc-item-num\">1&nbsp;&nbsp;</span>Functions</a></span><ul class=\"toc-item\"><li><span><a href=\"#Syntax:\" data-toc-modified-id=\"Syntax:-1.1\"><span class=\"toc-item-num\">1.1&nbsp;&nbsp;</span>Syntax:</a></span></li><li><span><a href=\"#Example:\" data-toc-modified-id=\"Example:-1.2\"><span class=\"toc-item-num\">1.2&nbsp;&nbsp;</span>Example:</a></span></li><li><span><a href=\"#Function-Call\" data-toc-modified-id=\"Function-Call-1.3\"><span class=\"toc-item-num\">1.3&nbsp;&nbsp;</span>Function Call</a></span></li><li><span><a href=\"#Doc-String\" data-toc-modified-id=\"Doc-String-1.4\"><span class=\"toc-item-num\">1.4&nbsp;&nbsp;</span>Doc String</a></span></li><li><span><a href=\"#return-Statement\" data-toc-modified-id=\"return-Statement-1.5\"><span class=\"toc-item-num\">1.5&nbsp;&nbsp;</span>return Statement</a></span></li><li><span><a href=\"#How-Function-works-in-Python?\" data-toc-modified-id=\"How-Function-works-in-Python?-1.6\"><span class=\"toc-item-num\">1.6&nbsp;&nbsp;</span>How Function works in Python?</a></span></li><li><span><a href=\"#Scope-and-Lifetime-of-Variables\" data-toc-modified-id=\"Scope-and-Lifetime-of-Variables-1.7\"><span class=\"toc-item-num\">1.7&nbsp;&nbsp;</span>Scope and Lifetime of Variables</a></span><ul class=\"toc-item\"><li><span><a href=\"#Example:\" data-toc-modified-id=\"Example:-1.7.1\"><span class=\"toc-item-num\">1.7.1&nbsp;&nbsp;</span>Example:</a></span></li></ul></li><li><span><a href=\"#Python-program-to-print-Factorial-of-a-number\" data-toc-modified-id=\"Python-program-to-print-Factorial-of-a-number-1.8\"><span class=\"toc-item-num\">1.8&nbsp;&nbsp;</span>Python program to print Factorial of a number</a></span></li></ul></li><li><span><a href=\"#Types-of-Functions\" data-toc-modified-id=\"Types-of-Functions-2\"><span class=\"toc-item-num\">2&nbsp;&nbsp;</span>Types of Functions</a></span><ul class=\"toc-item\"><li><span><a href=\"#Built-in-Functions\" data-toc-modified-id=\"Built-in-Functions-2.1\"><span class=\"toc-item-num\">2.1&nbsp;&nbsp;</span>Built-in Functions</a></span><ul class=\"toc-item\"><li><span><a href=\"#abs()\" data-toc-modified-id=\"abs()-2.1.1\"><span class=\"toc-item-num\">2.1.1&nbsp;&nbsp;</span>abs()</a></span></li><li><span><a href=\"#all()\" data-toc-modified-id=\"all()-2.1.2\"><span class=\"toc-item-num\">2.1.2&nbsp;&nbsp;</span>all()</a></span></li><li><span><a href=\"#dir()\" data-toc-modified-id=\"dir()-2.1.3\"><span class=\"toc-item-num\">2.1.3&nbsp;&nbsp;</span>dir()</a></span></li><li><span><a href=\"#divmod()\" data-toc-modified-id=\"divmod()-2.1.4\"><span class=\"toc-item-num\">2.1.4&nbsp;&nbsp;</span>divmod()</a></span></li><li><span><a href=\"#enumerate()\" data-toc-modified-id=\"enumerate()-2.1.5\"><span class=\"toc-item-num\">2.1.5&nbsp;&nbsp;</span>enumerate()</a></span></li><li><span><a href=\"#filter()\" data-toc-modified-id=\"filter()-2.1.6\"><span class=\"toc-item-num\">2.1.6&nbsp;&nbsp;</span>filter()</a></span></li><li><span><a href=\"#isinstance()\" data-toc-modified-id=\"isinstance()-2.1.7\"><span class=\"toc-item-num\">2.1.7&nbsp;&nbsp;</span>isinstance()</a></span></li><li><span><a href=\"#map()\" data-toc-modified-id=\"map()-2.1.8\"><span class=\"toc-item-num\">2.1.8&nbsp;&nbsp;</span>map()</a></span></li><li><span><a href=\"#reduce()\" data-toc-modified-id=\"reduce()-2.1.9\"><span class=\"toc-item-num\">2.1.9&nbsp;&nbsp;</span>reduce()</a></span></li></ul></li><li><span><a href=\"#User-defined-Functions\" data-toc-modified-id=\"User-defined-Functions-2.2\"><span class=\"toc-item-num\">2.2&nbsp;&nbsp;</span>User-defined Functions</a></span><ul class=\"toc-item\"><li><span><a href=\"#Advantages\" data-toc-modified-id=\"Advantages-2.2.1\"><span class=\"toc-item-num\">2.2.1&nbsp;&nbsp;</span>Advantages</a></span><ul class=\"toc-item\"><li><span><a href=\"#Example:\" data-toc-modified-id=\"Example:-2.2.1.1\"><span class=\"toc-item-num\">2.2.1.1&nbsp;&nbsp;</span>Example:</a></span></li></ul></li><li><span><a href=\"#Python-program-to-make-a-simple-calculator-that-can-add,-subtract,-multiply-and-division\" data-toc-modified-id=\"Python-program-to-make-a-simple-calculator-that-can-add,-subtract,-multiply-and-division-2.2.2\"><span class=\"toc-item-num\">2.2.2&nbsp;&nbsp;</span>Python program to make a simple calculator that can add, subtract, multiply and division</a></span></li></ul></li></ul></li><li><span><a href=\"#Arguments-/-Parameters-in-a-function\" data-toc-modified-id=\"Arguments-/-Parameters-in-a-function-3\"><span class=\"toc-item-num\">3&nbsp;&nbsp;</span>Arguments / Parameters in a function</a></span><ul class=\"toc-item\"><li><span><a href=\"#Different-Forms-of-Arguments\" data-toc-modified-id=\"Different-Forms-of-Arguments-3.1\"><span class=\"toc-item-num\">3.1&nbsp;&nbsp;</span>Different Forms of Arguments</a></span><ul class=\"toc-item\"><li><span><a href=\"#Default-Arguments\" data-toc-modified-id=\"Default-Arguments-3.1.1\"><span class=\"toc-item-num\">3.1.1&nbsp;&nbsp;</span>Default Arguments</a></span></li></ul></li><li><span><a href=\"#Keyword-Arguments\" data-toc-modified-id=\"Keyword-Arguments-3.2\"><span class=\"toc-item-num\">3.2&nbsp;&nbsp;</span>Keyword Arguments</a></span><ul class=\"toc-item\"><li><span><a href=\"#Example:\" data-toc-modified-id=\"Example:-3.2.1\"><span class=\"toc-item-num\">3.2.1&nbsp;&nbsp;</span>Example:</a></span></li></ul></li><li><span><a href=\"#Arbitary-Arguments\" data-toc-modified-id=\"Arbitary-Arguments-3.3\"><span class=\"toc-item-num\">3.3&nbsp;&nbsp;</span>Arbitary Arguments</a></span><ul class=\"toc-item\"><li><span><a href=\"#Example:\" data-toc-modified-id=\"Example:-3.3.1\"><span class=\"toc-item-num\">3.3.1&nbsp;&nbsp;</span>Example:</a></span></li></ul></li></ul></li><li><span><a href=\"#Recursive-functions\" data-toc-modified-id=\"Recursive-functions-4\"><span class=\"toc-item-num\">4&nbsp;&nbsp;</span>Recursive functions</a></span><ul class=\"toc-item\"><li><span><a href=\"#Example:\" data-toc-modified-id=\"Example:-4.1\"><span class=\"toc-item-num\">4.1&nbsp;&nbsp;</span>Example:</a></span><ul class=\"toc-item\"><li><span><a href=\"#Advantages\" data-toc-modified-id=\"Advantages-4.1.1\"><span class=\"toc-item-num\">4.1.1&nbsp;&nbsp;</span>Advantages</a></span></li><li><span><a href=\"#Disadvantages\" data-toc-modified-id=\"Disadvantages-4.1.2\"><span class=\"toc-item-num\">4.1.2&nbsp;&nbsp;</span>Disadvantages</a></span></li></ul></li></ul></li><li><span><a href=\"#Lambda-or-Anonymous-Functions\" data-toc-modified-id=\"Lambda-or-Anonymous-Functions-5\"><span class=\"toc-item-num\">5&nbsp;&nbsp;</span>Lambda or Anonymous Functions</a></span><ul class=\"toc-item\"><li><span><a href=\"#Example:\" data-toc-modified-id=\"Example:-5.1\"><span class=\"toc-item-num\">5.1&nbsp;&nbsp;</span>Example:</a></span></li></ul></li></ul></div>"
   ]
  },
  {
   "cell_type": "markdown",
   "metadata": {},
   "source": [
    "# Python Basics (Day 5)\n",
    "<img height=\"60\" width=\"120\" src=\"https://www.python.org/static/img/python-logo-large.png?1414305901\"></img>"
   ]
  },
  {
   "cell_type": "markdown",
   "metadata": {},
   "source": [
    "## Functions"
   ]
  },
  {
   "cell_type": "markdown",
   "metadata": {},
   "source": [
    "A group of related statements that perform a specific task is called as a <b>Function</b>."
   ]
  },
  {
   "cell_type": "markdown",
   "metadata": {},
   "source": [
    "Functions help,\n",
    "\n",
    "1> Modularize the code<br/>\n",
    "2> Organized and easy to maintain<br/>\n",
    "3> Repetitive code can be avoided by putting up in a function<br/>"
   ]
  },
  {
   "cell_type": "markdown",
   "metadata": {},
   "source": [
    "### Syntax:"
   ]
  },
  {
   "cell_type": "markdown",
   "metadata": {},
   "source": [
    "    def function_name(arguments):\n",
    "    \n",
    "        \"\"\"\n",
    "        Doc String\n",
    "        \"\"\"\n",
    "    \n",
    "        Statement(s)"
   ]
  },
  {
   "cell_type": "markdown",
   "metadata": {},
   "source": [
    "1. \"def\" keyword notifies the start of function header\n",
    "\n",
    "2. Arguments (parameters) through which we pass values to a function. These are optional\n",
    "\n",
    "3. A colon(:) to mark the end of funciton header\n",
    "\n",
    "4. Doc string describe what the function does. This is optional\n",
    "\n",
    "5. \"return\" statement to return a value from the function. This is optional"
   ]
  },
  {
   "cell_type": "markdown",
   "metadata": {},
   "source": [
    "### Example:"
   ]
  },
  {
   "cell_type": "code",
   "execution_count": 1,
   "metadata": {},
   "outputs": [],
   "source": [
    "def hello_world(world):\n",
    "    \"\"\" \n",
    "    This function prints Hello world\n",
    "    \"\"\"\n",
    "    print(\"Hello \" + str(world)) \n",
    "    "
   ]
  },
  {
   "cell_type": "markdown",
   "metadata": {},
   "source": [
    "### Function Call"
   ]
  },
  {
   "cell_type": "markdown",
   "metadata": {},
   "source": [
    "Once we have defined a function, we can call it from anywhere"
   ]
  },
  {
   "cell_type": "code",
   "execution_count": 2,
   "metadata": {},
   "outputs": [
    {
     "name": "stdout",
     "output_type": "stream",
     "text": [
      "Hello world\n"
     ]
    }
   ],
   "source": [
    "hello_world('world')                # Pass world to the function"
   ]
  },
  {
   "cell_type": "markdown",
   "metadata": {
    "collapsed": true
   },
   "source": [
    "### Doc String"
   ]
  },
  {
   "cell_type": "markdown",
   "metadata": {},
   "source": [
    "Docstring or short for documentation string is the first string after the function header that speaks about the function.<br/>\n",
    "Documentation(though optional) is a good programming practice and it is advisable that one always documents code<br/>\n",
    "It is surrounded by triple quotes so that it can extend up to multiple lines<br/>"
   ]
  },
  {
   "cell_type": "code",
   "execution_count": 3,
   "metadata": {},
   "outputs": [
    {
     "name": "stdout",
     "output_type": "stream",
     "text": [
      " \n",
      "    This function prints Hello world\n",
      "    \n"
     ]
    }
   ],
   "source": [
    "print(hello_world.__doc__)           # print doc string of the function\n"
   ]
  },
  {
   "cell_type": "markdown",
   "metadata": {},
   "source": [
    "### return Statement"
   ]
  },
  {
   "cell_type": "markdown",
   "metadata": {},
   "source": [
    "The return statement is used to exit a function and go back to the place from where it was called."
   ]
  },
  {
   "cell_type": "markdown",
   "metadata": {},
   "source": [
    "Syntax:\n",
    "    \n",
    "    return [expression]"
   ]
  },
  {
   "cell_type": "markdown",
   "metadata": {},
   "source": [
    "- The return statement can contain an expression which gets evaluated and the value is returned.\n",
    "\n",
    "- For no expression in the statement or the return statement itself is not present inside a function, then the function returns <b>None</b> Object"
   ]
  },
  {
   "cell_type": "code",
   "execution_count": 4,
   "metadata": {},
   "outputs": [],
   "source": [
    "def sum(numbers):\n",
    "    \"\"\"\n",
    "    This function returns the sum of all the numbers in a list\n",
    "    \"\"\"\n",
    "    \n",
    "    sum = 0\n",
    "    \n",
    "    for number in numbers:\n",
    "        sum += number\n",
    "    return sum\n"
   ]
  },
  {
   "cell_type": "code",
   "execution_count": 2,
   "metadata": {},
   "outputs": [
    {
     "name": "stdout",
     "output_type": "stream",
     "text": [
      "12\n"
     ]
    }
   ],
   "source": [
    "sumOfNumbers = sum([2, 4, 6])\n",
    "print(sumOfNumbers)"
   ]
  },
  {
   "cell_type": "code",
   "execution_count": 5,
   "metadata": {},
   "outputs": [
    {
     "name": "stdout",
     "output_type": "stream",
     "text": [
      "\n",
      "    This function returns the sum of all the numbers in a list\n",
      "    \n"
     ]
    }
   ],
   "source": [
    "print(sum.__doc__)                                    # Print doc string"
   ]
  },
  {
   "cell_type": "markdown",
   "metadata": {},
   "source": [
    "### How Function works in Python?"
   ]
  },
  {
   "cell_type": "markdown",
   "metadata": {},
   "source": [
    "<img height=\"200\" width=\"240\" src=\"https://github.com/suchitmajumdar/LearnPython/blob/master/images/how-function-works..png?raw=true\"></img>"
   ]
  },
  {
   "cell_type": "markdown",
   "metadata": {},
   "source": [
    "### Scope and Lifetime of Variables"
   ]
  },
  {
   "cell_type": "markdown",
   "metadata": {},
   "source": [
    "- <b>Scope</b> of a variable is the part of a program where the variable is recognized\n",
    "\n",
    "- Variables defined inside a function have a local scope and are not visible outside the function\n",
    "\n",
    "- <b>Lifetime</b> of a variable is the period throughout which the variable exits in the memory. \n",
    "\n",
    "- The lifetime of variables inside a function is as long as the function executes.\n",
    "\n",
    "- Variables are destroyed once we return from the function. "
   ]
  },
  {
   "cell_type": "markdown",
   "metadata": {},
   "source": [
    "#### Example:"
   ]
  },
  {
   "cell_type": "code",
   "execution_count": 6,
   "metadata": {},
   "outputs": [
    {
     "name": "stdout",
     "output_type": "stream",
     "text": [
      "Inside the function block:  This is local variable\n",
      "Inside the function block:  I am a global variable\n",
      "Outside:  I am a global variable\n"
     ]
    },
    {
     "ename": "NameError",
     "evalue": "name 'localVariable' is not defined",
     "output_type": "error",
     "traceback": [
      "\u001b[1;31m---------------------------------------------------------------------------\u001b[0m",
      "\u001b[1;31mNameError\u001b[0m                                 Traceback (most recent call last)",
      "\u001b[1;32m<ipython-input-6-fe7221924082>\u001b[0m in \u001b[0;36m<module>\u001b[1;34m\u001b[0m\n\u001b[0;32m     15\u001b[0m \u001b[0mprint\u001b[0m\u001b[1;33m(\u001b[0m\u001b[1;34m\"Outside: \"\u001b[0m\u001b[1;33m,\u001b[0m\u001b[0mglobalVariable\u001b[0m\u001b[1;33m)\u001b[0m                            \u001b[1;31m# Print global variable globalVariable\u001b[0m\u001b[1;33m\u001b[0m\u001b[1;33m\u001b[0m\u001b[0m\n\u001b[0;32m     16\u001b[0m \u001b[1;33m\u001b[0m\u001b[0m\n\u001b[1;32m---> 17\u001b[1;33m \u001b[0mprint\u001b[0m\u001b[1;33m(\u001b[0m\u001b[1;34m\"Outside: \"\u001b[0m\u001b[1;33m,\u001b[0m\u001b[0mlocalVariable\u001b[0m\u001b[1;33m)\u001b[0m                             \u001b[1;31m# localVariable is not in scope\u001b[0m\u001b[1;33m\u001b[0m\u001b[1;33m\u001b[0m\u001b[0m\n\u001b[0m",
      "\u001b[1;31mNameError\u001b[0m: name 'localVariable' is not defined"
     ]
    }
   ],
   "source": [
    "globalVariable = \"I am a global variable\"\n",
    "\n",
    "def checkLifeTime():\n",
    "    \"\"\"\n",
    "    Function to test life time of variables\n",
    "    \"\"\"\n",
    "    localVariable = \"This is local variable\"\n",
    "    print(\"Inside the function block: \",localVariable)       # Prints the local variable localVariable\n",
    "    \n",
    "    print(\"Inside the function block: \",globalVariable)      # Prints the global variable global_var\n",
    "    \n",
    "    \n",
    "checkLifeTime()                                              # Call function to check the globalVariable\n",
    "\n",
    "print(\"Outside: \",globalVariable)                            # Print global variable globalVariable\n",
    "\n",
    "print(\"Outside: \",localVariable)                             # localVariable is not in scope\n"
   ]
  },
  {
   "cell_type": "markdown",
   "metadata": {},
   "source": [
    "### Python program to print Factorial of a number"
   ]
  },
  {
   "cell_type": "code",
   "execution_count": 8,
   "metadata": {},
   "outputs": [
    {
     "name": "stdout",
     "output_type": "stream",
     "text": [
      "Factorial of 3 is: 6\n"
     ]
    }
   ],
   "source": [
    "def factorial(num):\n",
    "    \"\"\"\n",
    "    Computing HCF of two numbers\n",
    "    \"\"\"\n",
    "\n",
    "    fact = 1\n",
    "\n",
    "    while(num>0):\n",
    "        fact *= num\n",
    "        num -= 1\n",
    "    return fact\n",
    "\n",
    "\n",
    "\n",
    "number = 3\n",
    "\n",
    "print(\"Factorial of {} is: {}\".format(number, factorial(number)))"
   ]
  },
  {
   "cell_type": "markdown",
   "metadata": {},
   "source": [
    "## Types of Functions"
   ]
  },
  {
   "cell_type": "markdown",
   "metadata": {},
   "source": [
    "1. Built-in Functions\n",
    "\n",
    "2. User-defined Functions"
   ]
  },
  {
   "cell_type": "markdown",
   "metadata": {},
   "source": [
    "### Built-in Functions"
   ]
  },
  {
   "cell_type": "markdown",
   "metadata": {},
   "source": [
    "#### abs()"
   ]
  },
  {
   "cell_type": "code",
   "execution_count": 54,
   "metadata": {},
   "outputs": [
    {
     "name": "stdout",
     "output_type": "stream",
     "text": [
      "100\n"
     ]
    }
   ],
   "source": [
    "number = -100\n",
    "\n",
    "print(abs(number))                                         # Returns the absolute value of a number"
   ]
  },
  {
   "cell_type": "markdown",
   "metadata": {},
   "source": [
    "#### all()"
   ]
  },
  {
   "cell_type": "markdown",
   "metadata": {},
   "source": [
    "The function all() retruns,\n",
    "\n",
    "True: If all elements in an iterable data collection are true\n",
    "\n",
    "False: If any element in an iterable data collection is false (Remember 0 & None are considered False)"
   ]
  },
  {
   "cell_type": "code",
   "execution_count": 20,
   "metadata": {},
   "outputs": [
    {
     "name": "stdout",
     "output_type": "stream",
     "text": [
      "True\n"
     ]
    }
   ],
   "source": [
    "mySet = {10,20,30,40}\n",
    "print(all(mySet)) "
   ]
  },
  {
   "cell_type": "code",
   "execution_count": 21,
   "metadata": {},
   "outputs": [
    {
     "name": "stdout",
     "output_type": "stream",
     "text": [
      "False\n"
     ]
    }
   ],
   "source": [
    "myTuple = (0, 10, 20, 30)    # 0 is a part of the list and hence false \n",
    "print(all(myTuple))"
   ]
  },
  {
   "cell_type": "code",
   "execution_count": 22,
   "metadata": {},
   "outputs": [
    {
     "name": "stdout",
     "output_type": "stream",
     "text": [
      "True\n"
     ]
    }
   ],
   "source": [
    "emptyList = []              # An empty list always returns true for all function\n",
    "print(all(emptyList))"
   ]
  },
  {
   "cell_type": "code",
   "execution_count": 14,
   "metadata": {},
   "outputs": [
    {
     "name": "stdout",
     "output_type": "stream",
     "text": [
      "False\n"
     ]
    }
   ],
   "source": [
    "myList = [False, 1, 2]      # False present in a list so all(lst) is False\n",
    "print(all(myList))"
   ]
  },
  {
   "cell_type": "markdown",
   "metadata": {},
   "source": [
    "#### dir()"
   ]
  },
  {
   "cell_type": "markdown",
   "metadata": {},
   "source": [
    "The dir() tries to return a <b>list of valid attributes</b> of the object.\n",
    "\n",
    "If the object has __dir__() <u>method</u>, the method will be called and must return the list of attributes.\n",
    "\n",
    "If the object doesn't have __dir()__ method, this method tries to find information from the __dict__ <u>attribute</u> (if defined), and from type object. In this case, the list returned from dir() may not be complete.\n"
   ]
  },
  {
   "cell_type": "code",
   "execution_count": 33,
   "metadata": {},
   "outputs": [
    {
     "name": "stdout",
     "output_type": "stream",
     "text": [
      "['__add__', '__class__', '__contains__', '__delattr__', '__delitem__', '__dir__', '__doc__', '__eq__', '__format__', '__ge__', '__getattribute__', '__getitem__', '__gt__', '__hash__', '__iadd__', '__imul__', '__init__', '__init_subclass__', '__iter__', '__le__', '__len__', '__lt__', '__mul__', '__ne__', '__new__', '__reduce__', '__reduce_ex__', '__repr__', '__reversed__', '__rmul__', '__setattr__', '__setitem__', '__sizeof__', '__str__', '__subclasshook__', 'append', 'clear', 'copy', 'count', 'extend', 'index', 'insert', 'pop', 'remove', 'reverse', 'sort']\n"
     ]
    }
   ],
   "source": [
    "numbers = [1, 2, 3]\n",
    "print(dir(numbers))"
   ]
  },
  {
   "cell_type": "markdown",
   "metadata": {},
   "source": [
    "#### divmod()"
   ]
  },
  {
   "cell_type": "markdown",
   "metadata": {},
   "source": [
    "The divmod() method takes two numbers and returns a pair of numbers (a tuple) consisting of their quotient and remainder."
   ]
  },
  {
   "cell_type": "code",
   "execution_count": 36,
   "metadata": {},
   "outputs": [
    {
     "name": "stdout",
     "output_type": "stream",
     "text": [
      "(4, 1)\n"
     ]
    }
   ],
   "source": [
    "print(divmod(9, 2))                    # Prints the quotient and remainder in the form of a tuple"
   ]
  },
  {
   "cell_type": "markdown",
   "metadata": {},
   "source": [
    "#### enumerate()"
   ]
  },
  {
   "cell_type": "markdown",
   "metadata": {},
   "source": [
    "enumerate() method adds counter to an iterable data collection & returns it \n",
    "\n",
    "<b>Syntax</b>: enumerate(iterable, start=0)\n",
    "\n",
    "The enumerate() method takes two parameters:\n",
    "\n",
    "- iterable - a sequence, an iterator, or objects that supports iteration\n",
    "- start (optional) - enumerate() starts counting from this number. If start is omitted, 0 is taken as start."
   ]
  },
  {
   "cell_type": "code",
   "execution_count": 39,
   "metadata": {},
   "outputs": [
    {
     "name": "stdout",
     "output_type": "stream",
     "text": [
      "index 10 has value 1\n",
      "index 11 has value 2\n",
      "index 12 has value 3\n",
      "index 13 has value 4\n"
     ]
    }
   ],
   "source": [
    "numbers = [1, 2, 3, 4]\n",
    "\n",
    "for index, num in enumerate(numbers,10):\n",
    "    print(\"index {0} has value {1}\".format(index, num))\n",
    "    "
   ]
  },
  {
   "cell_type": "markdown",
   "metadata": {},
   "source": [
    "#### filter()"
   ]
  },
  {
   "cell_type": "markdown",
   "metadata": {},
   "source": [
    "The filter() method constructs an iterator from elements of an iterable for which a function returns true."
   ]
  },
  {
   "cell_type": "markdown",
   "metadata": {},
   "source": [
    "<b>Syntax</b>: filter(function, iterable)\n",
    "\n",
    "The filter() method takes two parameters:\n",
    "\n",
    "- function - function that tests if elements of an iterable returns true or false\n",
    "If <b>None</b>, the function defaults to <b>Identity function</b> - which returns false if any elements are false\n",
    "- iterable - iterable which is to be filtered, could be sets, lists, tuples, or containers of any iterators"
   ]
  },
  {
   "cell_type": "code",
   "execution_count": 43,
   "metadata": {},
   "outputs": [],
   "source": [
    "def even_number(number):\n",
    "    \"\"\"\n",
    "    This function returns if a number is an even numbers\n",
    "    \"\"\"\n",
    "    if number%2 == 0:\n",
    "        return number\n",
    "    "
   ]
  },
  {
   "cell_type": "code",
   "execution_count": 48,
   "metadata": {},
   "outputs": [
    {
     "name": "stdout",
     "output_type": "stream",
     "text": [
      "Original list of numbers:  [0, 1, 2, 3, 4, 5, 6, 7, 8, 9, 10, 11, 12, 13, 14, 15, 16, 17, 18, 19, 20, 21, 22, 23, 24, 25, 26, 27, 28, 29, 30, 31, 32, 33, 34, 35, 36, 37, 38, 39, 40, 41, 42, 43, 44, 45, 46, 47, 48, 49]\n",
      "\n",
      "Even numbers are:  [2, 4, 6, 8, 10, 12, 14, 16, 18, 20, 22, 24, 26, 28, 30, 32, 34, 36, 38, 40, 42, 44, 46, 48]\n"
     ]
    }
   ],
   "source": [
    "numbers = range(50)                                # A list with numbers from 0 to 49\n",
    "print('Original list of numbers: ',list(numbers))\n",
    "\n",
    "evenNumbers = list(filter(even_number, numbers))\n",
    "\n",
    "print('\\nEven numbers are: ',evenNumbers)"
   ]
  },
  {
   "cell_type": "markdown",
   "metadata": {},
   "source": [
    "#### isinstance()"
   ]
  },
  {
   "cell_type": "markdown",
   "metadata": {},
   "source": [
    "The isinstance() function checks if the object (first argument) is an instance or subclass of classinfo class (second argument)."
   ]
  },
  {
   "cell_type": "markdown",
   "metadata": {},
   "source": [
    "<b>Syntax</b>: isinstance(object, classinfo)"
   ]
  },
  {
   "cell_type": "code",
   "execution_count": 3,
   "metadata": {},
   "outputs": [
    {
     "name": "stdout",
     "output_type": "stream",
     "text": [
      "True\n",
      "True\n"
     ]
    }
   ],
   "source": [
    "mySet = {'Same', 'Not same', 100, 23}\n",
    "print(isinstance(mySet, set))                          # Check for set\n",
    "\n",
    "\n",
    "myDict = {1:1,2:2,3:3,4:4}     \n",
    "print(isinstance(myDict, dict))                        # Check for dictionary"
   ]
  },
  {
   "cell_type": "markdown",
   "metadata": {},
   "source": [
    "#### map()"
   ]
  },
  {
   "cell_type": "markdown",
   "metadata": {},
   "source": [
    "Map applies a function to all the items in an input_list.<br/>\n",
    "<b>Syntax</b>: map(function_to_apply, list_of_inputs)"
   ]
  },
  {
   "cell_type": "code",
   "execution_count": 4,
   "metadata": {},
   "outputs": [
    {
     "name": "stdout",
     "output_type": "stream",
     "text": [
      "[5.0, 5.5, 6.0, 6.5, 7.0]\n"
     ]
    }
   ],
   "source": [
    "numbers = [10, 11, 12, 13, 14]\n",
    "\n",
    "            \n",
    "half = []                        # Calculate half of each element in the list.\n",
    "for num in numbers:\n",
    "    half.append(num / 2)\n",
    "\n",
    "print(half)\n"
   ]
  },
  {
   "cell_type": "code",
   "execution_count": 5,
   "metadata": {},
   "outputs": [
    {
     "name": "stdout",
     "output_type": "stream",
     "text": [
      "[5.0, 5.5, 6.0, 6.5, 7.0]\n"
     ]
    }
   ],
   "source": [
    "numbers = [10, 11, 12, 13, 14]\n",
    "\n",
    "def halfOfTheNumber(num):\n",
    "    return num / 2\n",
    "\n",
    "halves = list(map(halfOfTheNumber, numbers))           # Passing the calculation method to the map() function\n",
    "print(halves)\n"
   ]
  },
  {
   "cell_type": "markdown",
   "metadata": {},
   "source": [
    "#### reduce()"
   ]
  },
  {
   "cell_type": "markdown",
   "metadata": {},
   "source": [
    "reduce() function is for performing some computation on a list and returning the result. \n",
    "\n",
    "It applies a rolling computation to sequential pairs of values in a list. \n",
    "\n",
    "\n",
    "<b>Working</b> : \n",
    "\n",
    "- At first step, first two elements of sequence are picked and the result is obtained.\n",
    "- Next step is to apply the same function to the previously attained result and the number just succeeding the second element and the result is again stored.\n",
    "- This process continues till no more elements are left in the container.\n",
    "- The final returned result is returned and printed on console."
   ]
  },
  {
   "cell_type": "code",
   "execution_count": 6,
   "metadata": {},
   "outputs": [
    {
     "name": "stdout",
     "output_type": "stream",
     "text": [
      "10\n"
     ]
    }
   ],
   "source": [
    "sumOfAnArray = 0                              # Sum the numbers in a list\n",
    "numbers = [1, 2, 3, 4]\n",
    "\n",
    "for num in numbers:                  # Regular way of programming\n",
    "    sumOfAnArray += num\n",
    "print(sumOfAnArray)"
   ]
  },
  {
   "cell_type": "code",
   "execution_count": 8,
   "metadata": {},
   "outputs": [
    {
     "name": "stdout",
     "output_type": "stream",
     "text": [
      "10\n"
     ]
    }
   ],
   "source": [
    "from functools import reduce # in Python 3.\n",
    "\n",
    "def additionOfNumbers(x,y):                              # Program using reduce()\n",
    "    return x+y;\n",
    "\n",
    "sumOfAnArray = reduce(additionOfNumbers, numbers)\n",
    "print(sumOfAnArray)\n"
   ]
  },
  {
   "cell_type": "markdown",
   "metadata": {},
   "source": [
    "\n",
    "### User-defined Functions"
   ]
  },
  {
   "cell_type": "markdown",
   "metadata": {},
   "source": [
    "Functions that programmers define to do certain tasks are known as user-defined functions<br/>\n",
    "If we use functions written by others in the form of library, it can be termed as library functions."
   ]
  },
  {
   "cell_type": "markdown",
   "metadata": {},
   "source": [
    "#### Advantages"
   ]
  },
  {
   "cell_type": "markdown",
   "metadata": {},
   "source": [
    "1. <b>Understandability: </b>User-defined functions help to decompose a large program into small segments which makes program easy to understand, maintain and debug.\n",
    "\n",
    "2. <b>Removing redundancy: </b>If repeated code occurs in a program. Function can be used to include those codes and execute when needed by calling that function.\n",
    "\n",
    "3. <b>Task seggregation: </b>Programmars working on large project can divide the workload by making different functions."
   ]
  },
  {
   "cell_type": "markdown",
   "metadata": {},
   "source": [
    "##### Example:"
   ]
  },
  {
   "cell_type": "code",
   "execution_count": 11,
   "metadata": {},
   "outputs": [
    {
     "name": "stdout",
     "output_type": "stream",
     "text": [
      "Sum of 10 and 20 is 30 \n"
     ]
    }
   ],
   "source": [
    "def sumOfNumbers(num1, num2):\n",
    "    \"\"\"\n",
    "    this function returns the product of two numbers\n",
    "    \"\"\"\n",
    "    sumVal = num1 + num2\n",
    "    return sumVal\n",
    "\n",
    "val1 = 10\n",
    "val2 = 20\n",
    "print(\"Sum of {0} and {1} is {2} \".format(val1, val2, sumOfNumbers(val1, val2)))"
   ]
  },
  {
   "cell_type": "markdown",
   "metadata": {},
   "source": [
    "#### Python program to make a simple calculator that can add, subtract, multiply and division"
   ]
  },
  {
   "cell_type": "code",
   "execution_count": 9,
   "metadata": {},
   "outputs": [
    {
     "name": "stdout",
     "output_type": "stream",
     "text": [
      "Select Option\n",
      "1. Addition\n",
      "2. Subtraction\n",
      "3. Multiplication\n",
      "4. Division\n",
      "Enter choice 1/2/3/41\n",
      "Enter first number:2\n",
      "Enter second number:3\n",
      "Addition of 2.0 and 3.0 is 5.0\n"
     ]
    }
   ],
   "source": [
    "def add(a, b):\n",
    "    \"\"\"\n",
    "    This function adds two numbers\n",
    "    \"\"\"\n",
    "    return a + b\n",
    "\n",
    "def multiply(a, b):\n",
    "    \"\"\"\n",
    "    This function multiply two numbers\n",
    "    \"\"\"\n",
    "    return a * b\n",
    "\n",
    "def subtract(a, b):\n",
    "    \"\"\"\n",
    "    This function subtract two numbers\n",
    "    \"\"\"\n",
    "    return a - b\n",
    "\n",
    "def division(a, b):\n",
    "    \"\"\"\n",
    "    This function divides two numbers\n",
    "    \"\"\"\n",
    "    return a / b\n",
    "\n",
    "print(\"Select Option\")\n",
    "print(\"1. Addition\")\n",
    "print (\"2. Subtraction\")\n",
    "print (\"3. Multiplication\")\n",
    "print (\"4. Division\")\n",
    "\n",
    "#take input from user\n",
    "choice = int(input(\"Enter choice 1/2/3/4\"))\n",
    "\n",
    "num1 = float(input(\"Enter first number:\"))\n",
    "num2 = float(input(\"Enter second number:\"))\n",
    "if choice == 1:\n",
    "    print(\"Addition of {0} and {1} is {2}\".format(num1, num2, add(num1, num2)))\n",
    "elif choice == 2:\n",
    "    print(\"Subtraction of {0} and {1} is {2}\".format(num1, num2, subtract(num1, num2)))\n",
    "elif choice == 3:\n",
    "    print(\"Multiplication of {0} and {1} is {2}\".format(num1, num2, multiply(num1, num2)))\n",
    "elif choice == 4:\n",
    "    print(\"Division of {0} and {1} is {2}\".format(num1, num2, division(num1, num2)))\n",
    "else:\n",
    "    print(\"Invalid Choice\")"
   ]
  },
  {
   "cell_type": "markdown",
   "metadata": {
    "collapsed": true
   },
   "source": [
    "<center>End of section</center>\n",
    "\n",
    "--- "
   ]
  },
  {
   "cell_type": "markdown",
   "metadata": {},
   "source": [
    "## Arguments / Parameters in a function\n"
   ]
  },
  {
   "cell_type": "code",
   "execution_count": 11,
   "metadata": {},
   "outputs": [
    {
     "name": "stdout",
     "output_type": "stream",
     "text": [
      "Hello Kaushik , welcome to the world of Python\n"
     ]
    }
   ],
   "source": [
    "def hello(name, msg):\n",
    "    \"\"\"\n",
    "    This function prints a message for a person\n",
    "    \"\"\"\n",
    "    print(\"Hello {0} , {1}\".format(name, msg))\n",
    "\n",
    "hello(\"Kaushik\", \"welcome to the world of Python\")                  # Pass the arguments to the function\n"
   ]
  },
  {
   "cell_type": "code",
   "execution_count": 19,
   "metadata": {},
   "outputs": [
    {
     "ename": "TypeError",
     "evalue": "hello() takes 0 positional arguments but 1 was given",
     "output_type": "error",
     "traceback": [
      "\u001b[1;31m---------------------------------------------------------------------------\u001b[0m",
      "\u001b[1;31mTypeError\u001b[0m                                 Traceback (most recent call last)",
      "\u001b[1;32m<ipython-input-19-1f55fb0794c8>\u001b[0m in \u001b[0;36m<module>\u001b[1;34m\u001b[0m\n\u001b[1;32m----> 1\u001b[1;33m \u001b[0mhello\u001b[0m\u001b[1;33m(\u001b[0m\u001b[1;34m\"Kaushik\"\u001b[0m\u001b[1;33m)\u001b[0m                                  \u001b[1;31m# What happens if I miss any argument\u001b[0m\u001b[1;33m\u001b[0m\u001b[1;33m\u001b[0m\u001b[0m\n\u001b[0m",
      "\u001b[1;31mTypeError\u001b[0m: hello() takes 0 positional arguments but 1 was given"
     ]
    }
   ],
   "source": [
    "hello(\"Kaushik\")                                  # What happens if I miss any argument"
   ]
  },
  {
   "cell_type": "markdown",
   "metadata": {},
   "source": [
    "### Different Forms of Arguments"
   ]
  },
  {
   "cell_type": "markdown",
   "metadata": {},
   "source": [
    "#### Default Arguments"
   ]
  },
  {
   "cell_type": "markdown",
   "metadata": {},
   "source": [
    "Provision to pass default value to an argument by using the assignment operator (=). "
   ]
  },
  {
   "cell_type": "code",
   "execution_count": 20,
   "metadata": {},
   "outputs": [
    {
     "name": "stdout",
     "output_type": "stream",
     "text": [
      "Hello Kaushik , welcome to the world of Data Science\n"
     ]
    }
   ],
   "source": [
    "def hello(name, msg=\"welcome to the world of Python\"):\n",
    "    \"\"\"\n",
    "    This function greets to person with the provided message\n",
    "    if message is not provided, it defaults to \"welcome to the world of Python\"\n",
    "    \"\"\"\n",
    "    print(\"Hello {0} , {1}\".format(name, msg))\n",
    "\n",
    "hello(\"Kaushik\", \"welcome to the world of Data Science\")\n"
   ]
  },
  {
   "cell_type": "code",
   "execution_count": 21,
   "metadata": {},
   "outputs": [
    {
     "name": "stdout",
     "output_type": "stream",
     "text": [
      "Hello Kaushik , welcome to the world of Python\n"
     ]
    }
   ],
   "source": [
    "hello(\"Kaushik\")                             # Without the msg argument"
   ]
  },
  {
   "cell_type": "markdown",
   "metadata": {},
   "source": [
    "Once we have a default argument, all the arguments to its right must also have default values."
   ]
  },
  {
   "cell_type": "code",
   "execution_count": 22,
   "metadata": {},
   "outputs": [
    {
     "ename": "SyntaxError",
     "evalue": "non-default argument follows default argument (<ipython-input-22-dc661f6bcd02>, line 1)",
     "output_type": "error",
     "traceback": [
      "\u001b[1;36m  File \u001b[1;32m\"<ipython-input-22-dc661f6bcd02>\"\u001b[1;36m, line \u001b[1;32m1\u001b[0m\n\u001b[1;33m    def hello(msg=\"Good Morning\", name):        # We will get a SyntaxError\u001b[0m\n\u001b[1;37m             ^\u001b[0m\n\u001b[1;31mSyntaxError\u001b[0m\u001b[1;31m:\u001b[0m non-default argument follows default argument\n"
     ]
    }
   ],
   "source": [
    "def hello(msg=\"Good Morning\", name):        # We will get a SyntaxError\n",
    "    print()"
   ]
  },
  {
   "cell_type": "markdown",
   "metadata": {},
   "source": [
    "### Keyword Arguments"
   ]
  },
  {
   "cell_type": "markdown",
   "metadata": {},
   "source": [
    "kwargs allows you to pass key identified variables in number of arguments to a function. \n",
    "<br/>You should use **kwargs if you want to handle named arguments in a function"
   ]
  },
  {
   "cell_type": "markdown",
   "metadata": {},
   "source": [
    "#### Example:"
   ]
  },
  {
   "cell_type": "code",
   "execution_count": 16,
   "metadata": {},
   "outputs": [
    {
     "name": "stdout",
     "output_type": "stream",
     "text": [
      "Hello Kaushik , welcome to the world of Python\n"
     ]
    }
   ],
   "source": [
    "def hello(**kwargs):\n",
    "    \"\"\"\n",
    "    This function greets to person with the provided message\n",
    "    \"\"\"\n",
    "    if kwargs:\n",
    "        print(\"Hello {0} , {1}\".format(kwargs['name'], kwargs['msg']))\n",
    "        \n",
    "hello(name=\"Kaushik\", msg=\"welcome to the world of Python\")"
   ]
  },
  {
   "cell_type": "markdown",
   "metadata": {},
   "source": [
    "### Arbitary Arguments"
   ]
  },
  {
   "cell_type": "markdown",
   "metadata": {},
   "source": [
    "Sometimes, we do not know in advance the number of arguments that will be passed into a function.<br/> Python allows us to handle this kind of situation through function calls with arbitrary number of arguments.<br/>\n",
    "These can be accessed by iterating over the argument collection"
   ]
  },
  {
   "cell_type": "markdown",
   "metadata": {},
   "source": [
    "#### Example:"
   ]
  },
  {
   "cell_type": "code",
   "execution_count": 13,
   "metadata": {},
   "outputs": [
    {
     "name": "stdout",
     "output_type": "stream",
     "text": [
      "('Kaushik', 'Abhay', 'Samir', 'Jitu')\n",
      "Hello Kaushik\n",
      "Hello Abhay\n",
      "Hello Samir\n",
      "Hello Jitu\n"
     ]
    }
   ],
   "source": [
    "def hello(*names):\n",
    "    \"\"\"\n",
    "    This function greets all persons in the names tuple \n",
    "    \"\"\"\n",
    "    print(names)\n",
    "    \n",
    "    for name in names:\n",
    "        print(\"Hello {0}\".format(name))\n",
    "\n",
    "hello(\"Kaushik\", \"Abhay\", \"Samir\", \"Jitu\")"
   ]
  },
  {
   "cell_type": "markdown",
   "metadata": {},
   "source": [
    "## Recursive functions"
   ]
  },
  {
   "cell_type": "markdown",
   "metadata": {},
   "source": [
    "We know that in Python, a function can call other functions. <br/>The function can call itself too. These type of construct are termed as <b>recursive functions</b>."
   ]
  },
  {
   "cell_type": "markdown",
   "metadata": {},
   "source": [
    "### Example:"
   ]
  },
  {
   "cell_type": "code",
   "execution_count": 17,
   "metadata": {},
   "outputs": [
    {
     "name": "stdout",
     "output_type": "stream",
     "text": [
      "Factorial of 5 is 120 \n"
     ]
    }
   ],
   "source": [
    "def factorial(num):                     # Program to print factorial of a number using recursion\n",
    "    \"\"\"\n",
    "    This is a recursive function to find the factorial of a given number\n",
    "    \"\"\"\n",
    "    return 1 if num == 1 else (num * factorial(num-1))\n",
    "\n",
    "number = 5\n",
    "print(\"Factorial of {0} is {1} \".format(number, factorial(number)))\n"
   ]
  },
  {
   "cell_type": "markdown",
   "metadata": {},
   "source": [
    "#### Advantages"
   ]
  },
  {
   "cell_type": "markdown",
   "metadata": {},
   "source": [
    "- Recursive functions make the code look clean and elegant.\n",
    "\n",
    "- A complex task can be broken down into simpler sub-problems using recursion.\n",
    "\n",
    "- Sequence generation is easier with recursion than using some nested iteration.\n"
   ]
  },
  {
   "cell_type": "markdown",
   "metadata": {},
   "source": [
    "#### Disadvantages"
   ]
  },
  {
   "cell_type": "markdown",
   "metadata": {},
   "source": [
    "- Sometimes the logic behind recursion is hard to follow through.\n",
    "\n",
    "- Recursive calls are expensive (inefficient) as they take up a lot of memory and time.\n",
    "\n",
    "- Recursive functions are hard to debug.\n"
   ]
  },
  {
   "cell_type": "markdown",
   "metadata": {},
   "source": [
    "<b>Excercise</b>: Fibonacci series"
   ]
  },
  {
   "cell_type": "code",
   "execution_count": 23,
   "metadata": {},
   "outputs": [
    {
     "name": "stdout",
     "output_type": "stream",
     "text": [
      "The Fibonacci series is as below\n",
      "0\n",
      "1\n",
      "1\n",
      "2\n",
      "3\n"
     ]
    }
   ],
   "source": [
    "def fibonacci(num):\n",
    "    \"\"\"\n",
    "    Recursive function to print fibonacci sequence\n",
    "    \"\"\"\n",
    "    return num if num <= 1 else fibonacci(num-1) + fibonacci(num-2)\n",
    "\n",
    "nterms = 5\n",
    "print(\"The Fibonacci series is as below\")\n",
    "for num in range(nterms):\n",
    "    print(fibonacci(num))"
   ]
  },
  {
   "cell_type": "code",
   "execution_count": 1,
   "metadata": {},
   "outputs": [
    {
     "name": "stdout",
     "output_type": "stream",
     "text": [
      "Collecting fibonacci\n",
      "  Downloading https://files.pythonhosted.org/packages/8f/bb/e042be3873a768a150d0123d1d0cb293a444e4c418c5eee9f9b560c2694a/fibonacci-1.0.0.tar.gz\n",
      "Building wheels for collected packages: fibonacci\n",
      "  Building wheel for fibonacci (setup.py): started\n",
      "  Building wheel for fibonacci (setup.py): finished with status 'done'\n",
      "  Created wheel for fibonacci: filename=fibonacci-1.0.0-cp37-none-any.whl size=1326 sha256=05aaabb47d1f8e267dbd257f597a8fbf805d183534391de217dae8b979332ad7\n",
      "  Stored in directory: C:\\Users\\kaushik.r\\AppData\\Local\\pip\\Cache\\wheels\\ab\\dc\\ee\\4743211035185747387c0436a5bde8dbd19dce6b3dadc381af\n",
      "Successfully built fibonacci\n",
      "Installing collected packages: fibonacci\n",
      "Successfully installed fibonacci-1.0.0\n",
      "Note: you may need to restart the kernel to use updated packages.\n"
     ]
    }
   ],
   "source": [
    "pip install fibonacci"
   ]
  },
  {
   "cell_type": "code",
   "execution_count": 3,
   "metadata": {},
   "outputs": [
    {
     "name": "stdout",
     "output_type": "stream",
     "text": [
      "1\n",
      "1\n",
      "2\n",
      "3\n"
     ]
    }
   ],
   "source": [
    "import fibonacci as f\n",
    "for k in range(1,5):\n",
    "    print(f.fibo(k))"
   ]
  },
  {
   "cell_type": "markdown",
   "metadata": {},
   "source": [
    "## Lambda or Anonymous Functions"
   ]
  },
  {
   "cell_type": "markdown",
   "metadata": {},
   "source": [
    "In Python, <b>anonymous function</b> is a function that is defined without a name.\n",
    "\n",
    "While <b>normal functions</b> are defined using <b>def keyword</b>, <br/>in Python <b>anonymous functions</b> are defined using the <b>lambda keyword</b>.\n",
    "\n",
    "Lambda functions are used extensively along with built-in functions like filter(), map()"
   ]
  },
  {
   "cell_type": "markdown",
   "metadata": {},
   "source": [
    "<b>Syntax</b>:\n",
    "    \n",
    "    lambda arguments: expression"
   ]
  },
  {
   "cell_type": "markdown",
   "metadata": {},
   "source": [
    "### Example:"
   ]
  },
  {
   "cell_type": "code",
   "execution_count": 24,
   "metadata": {},
   "outputs": [
    {
     "name": "stdout",
     "output_type": "stream",
     "text": [
      "100\n"
     ]
    }
   ],
   "source": [
    "def square(x):                   # In regular way we write the squaring function as beside\n",
    "    return x ** 2\n",
    "\n",
    "print(square(10))"
   ]
  },
  {
   "cell_type": "code",
   "execution_count": 25,
   "metadata": {},
   "outputs": [
    {
     "name": "stdout",
     "output_type": "stream",
     "text": [
      "100\n"
     ]
    }
   ],
   "source": [
    "square = lambda x: x**2          # Using lambe we write the squaring function as beside\n",
    "\n",
    "print(square(10))"
   ]
  },
  {
   "cell_type": "markdown",
   "metadata": {},
   "source": [
    "<b>Use lambda with filter()</b>"
   ]
  },
  {
   "cell_type": "code",
   "execution_count": 62,
   "metadata": {},
   "outputs": [
    {
     "name": "stdout",
     "output_type": "stream",
     "text": [
      "[1, 3, 5]\n"
     ]
    }
   ],
   "source": [
    "myList = [1, 2, 3, 4, 5]   \n",
    "oddList = list(filter(lambda x: (x%2 != 0), myList))\n",
    "print(oddList)\n"
   ]
  },
  {
   "cell_type": "markdown",
   "metadata": {},
   "source": [
    "<b>Use lambda with map()</b>"
   ]
  },
  {
   "cell_type": "code",
   "execution_count": 63,
   "metadata": {},
   "outputs": [
    {
     "name": "stdout",
     "output_type": "stream",
     "text": [
      "[1, 4, 9, 16, 25]\n"
     ]
    }
   ],
   "source": [
    "myList = [1, 2, 3, 4, 5]\n",
    "sqList = list(map(lambda x: x ** 2, myList))\n",
    "print(sqList)\n"
   ]
  },
  {
   "cell_type": "markdown",
   "metadata": {},
   "source": [
    "<b>Use lambda with reduce()</b>"
   ]
  },
  {
   "cell_type": "code",
   "execution_count": 26,
   "metadata": {},
   "outputs": [
    {
     "name": "stdout",
     "output_type": "stream",
     "text": [
      "15\n"
     ]
    }
   ],
   "source": [
    "from functools import reduce\n",
    "\n",
    "myList = [1, 2, 3, 4, 5]\n",
    "sumList = reduce(lambda x, y: x+y, myList)\n",
    "print(sumList)\n"
   ]
  }
 ],
 "metadata": {
  "kernelspec": {
   "display_name": "Python 3",
   "language": "python",
   "name": "python3"
  },
  "language_info": {
   "codemirror_mode": {
    "name": "ipython",
    "version": 3
   },
   "file_extension": ".py",
   "mimetype": "text/x-python",
   "name": "python",
   "nbconvert_exporter": "python",
   "pygments_lexer": "ipython3",
   "version": "3.7.4"
  },
  "toc": {
   "base_numbering": 1,
   "nav_menu": {},
   "number_sections": true,
   "sideBar": true,
   "skip_h1_title": true,
   "title_cell": "Table of Contents",
   "title_sidebar": "Contents",
   "toc_cell": true,
   "toc_position": {},
   "toc_section_display": true,
   "toc_window_display": false
  }
 },
 "nbformat": 4,
 "nbformat_minor": 2
}
