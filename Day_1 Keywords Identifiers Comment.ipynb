{
 "cells": [
  {
   "cell_type": "markdown",
   "metadata": {
    "toc": true
   },
   "source": [
    "<h1>Table of Contents<span class=\"tocSkip\"></span></h1>\n",
    "<div class=\"toc\"><ul class=\"toc-item\"><li><span><a href=\"#Python-Installation\" data-toc-modified-id=\"Python-Installation-1\"><span class=\"toc-item-num\">1&nbsp;&nbsp;</span>Python Installation</a></span></li><li><span><a href=\"#Python-Version\" data-toc-modified-id=\"Python-Version-2\"><span class=\"toc-item-num\">2&nbsp;&nbsp;</span>Python Version</a></span></li><li><span><a href=\"#Python-Keywords\" data-toc-modified-id=\"Python-Keywords-3\"><span class=\"toc-item-num\">3&nbsp;&nbsp;</span>Python Keywords</a></span></li><li><span><a href=\"#Identifiers-/-Variables\" data-toc-modified-id=\"Identifiers-/-Variables-4\"><span class=\"toc-item-num\">4&nbsp;&nbsp;</span>Identifiers / Variables</a></span><ul class=\"toc-item\"><li><span><a href=\"#Few-more-correct-identifiers\" data-toc-modified-id=\"Few-more-correct-identifiers-4.1\"><span class=\"toc-item-num\">4.1&nbsp;&nbsp;</span>Few more correct identifiers</a></span></li></ul></li><li><span><a href=\"#Comments-in-Python\" data-toc-modified-id=\"Comments-in-Python-5\"><span class=\"toc-item-num\">5&nbsp;&nbsp;</span>Comments in Python</a></span><ul class=\"toc-item\"><li><span><a href=\"#This-is-one-of-the-best-way-to-convey-the-idea-behind-the-code-and-people-reusing-your-code-can-easily-make-sense-of-your-code\" data-toc-modified-id=\"This-is-one-of-the-best-way-to-convey-the-idea-behind-the-code-and-people-reusing-your-code-can-easily-make-sense-of-your-code-5.1\"><span class=\"toc-item-num\">5.1&nbsp;&nbsp;</span>This is one of the best way to convey the idea behind the code and people reusing your code can easily make sense of your code</a></span></li><li><span><a href=\"#Single-line-comment\" data-toc-modified-id=\"Single-line-comment-5.2\"><span class=\"toc-item-num\">5.2&nbsp;&nbsp;</span>Single line comment</a></span></li><li><span><a href=\"#Multi-line-comment\" data-toc-modified-id=\"Multi-line-comment-5.3\"><span class=\"toc-item-num\">5.3&nbsp;&nbsp;</span>Multi line comment</a></span></li></ul></li><li><span><a href=\"#Docstring-in-Python\" data-toc-modified-id=\"Docstring-in-Python-6\"><span class=\"toc-item-num\">6&nbsp;&nbsp;</span>Docstring in Python</a></span></li><li><span><a href=\"#Python-Indentation\" data-toc-modified-id=\"Python-Indentation-7\"><span class=\"toc-item-num\">7&nbsp;&nbsp;</span>Python Indentation</a></span><ul class=\"toc-item\"><li><span><a href=\"#Indentation-is-a-good-way-to-keep-the-code-readable\" data-toc-modified-id=\"Indentation-is-a-good-way-to-keep-the-code-readable-7.1\"><span class=\"toc-item-num\">7.1&nbsp;&nbsp;</span>Indentation is a good way to keep the code readable</a></span></li></ul></li><li><span><a href=\"#Python-Statement\" data-toc-modified-id=\"Python-Statement-8\"><span class=\"toc-item-num\">8&nbsp;&nbsp;</span>Python Statement</a></span><ul class=\"toc-item\"><li><span><a href=\"#Single-line-statement\" data-toc-modified-id=\"Single-line-statement-8.1\"><span class=\"toc-item-num\">8.1&nbsp;&nbsp;</span>Single-line statement</a></span></li><li><span><a href=\"#Multi-line-statement\" data-toc-modified-id=\"Multi-line-statement-8.2\"><span class=\"toc-item-num\">8.2&nbsp;&nbsp;</span>Multi-line statement</a></span></li></ul></li></ul></div>"
   ]
  },
  {
   "cell_type": "markdown",
   "metadata": {},
   "source": [
    "# Python Basics (Day - 1)\n",
    "<img height=\"60\" width=\"120\" src=\"https://www.python.org/static/img/python-logo-large.png?1414305901\"></img>"
   ]
  },
  {
   "cell_type": "markdown",
   "metadata": {},
   "source": [
    "<b>Welcome</b> to Python tutorial. For your benefit we have broken down the entire tutorial into multiple parts so that you can take it step by step. Please learn Python in the sequence of the notebooks and topic wise as per the Table Of Contents.\n",
    "\n",
    "Wish you a Happy Learning!\n",
    "<br/>\n",
    "<br/>"
   ]
  },
  {
   "cell_type": "markdown",
   "metadata": {},
   "source": [
    "## Python Installation"
   ]
  },
  {
   "cell_type": "code",
   "execution_count": null,
   "metadata": {},
   "outputs": [],
   "source": []
  },
  {
   "cell_type": "markdown",
   "metadata": {},
   "source": [
    "## Python Version"
   ]
  },
  {
   "cell_type": "markdown",
   "metadata": {},
   "source": [
    "## Python Keywords"
   ]
  },
  {
   "cell_type": "markdown",
   "metadata": {},
   "source": [
    "Keywords in Python are reservered words that cannot be used as ordinary\n",
    "identifiers.<p/>\n",
    "They must be spelled exacty as they are written. <p/>\n",
    "The 35 keywords in Python 3.7 are:<p/>"
   ]
  },
  {
   "attachments": {
    "image.png": {
     "image/png": "[encoded data removed]"
    }
   },
   "cell_type": "markdown",
   "metadata": {},
   "source": [
    "![image.png](attachment:image.png)"
   ]
  },
  {
   "cell_type": "code",
   "execution_count": 15,
   "metadata": {},
   "outputs": [
    {
     "name": "stdout",
     "output_type": "stream",
     "text": [
      "Total Keywords in python 3.7 are: 35 \n",
      " ['False', 'None', 'True', 'and', 'as', 'assert', 'async', 'await', 'break', 'class', 'continue', 'def', 'del', 'elif', 'else', 'except', 'finally', 'for', 'from', 'global', 'if', 'import', 'in', 'is', 'lambda', 'nonlocal', 'not', 'or', 'pass', 'raise', 'return', 'try', 'while', 'with', 'yield']\n"
     ]
    }
   ],
   "source": [
    "#To extract all keywords in python 3.7 use the below code\n",
    "import keyword\n",
    "\n",
    "print('Total Keywords in python 3.7 are:',len(keyword.kwlist),'\\n',keyword.kwlist)\n"
   ]
  },
  {
   "cell_type": "markdown",
   "metadata": {
    "collapsed": true
   },
   "source": [
    "## Identifiers / Variables"
   ]
  },
  {
   "cell_type": "markdown",
   "metadata": {},
   "source": [
    "Identifiers (also referred to as names) is given to entities like class, functions, variables etc. in Python. It helps differentiating one entity from another."
   ]
  },
  {
   "cell_type": "markdown",
   "metadata": {},
   "source": [
    "Rules for Writing Identifiers:\n",
    "\n",
    "1. Identifiers can be a combination of letters in lowercase (a to z) or uppercase (A to Z) or digits (0 to 9) or an underscore (_).\n",
    "\n",
    "2. An identifier cannot start with a digit. <i>'99somename'</i> is invalid, but <i>'somename99'</i> is perfectly fine.\n",
    "\n",
    "3. Keywords cannot be used as identifiers."
   ]
  },
  {
   "cell_type": "code",
   "execution_count": 13,
   "metadata": {},
   "outputs": [
    {
     "ename": "SyntaxError",
     "evalue": "invalid syntax (<ipython-input-13-e6c9f7eda5aa>, line 1)",
     "output_type": "error",
     "traceback": [
      "\u001b[0;36m  File \u001b[0;32m\"<ipython-input-13-e6c9f7eda5aa>\"\u001b[0;36m, line \u001b[0;32m1\u001b[0m\n\u001b[0;31m    99somename = 100\u001b[0m\n\u001b[0m             ^\u001b[0m\n\u001b[0;31mSyntaxError\u001b[0m\u001b[0;31m:\u001b[0m invalid syntax\n"
     ]
    }
   ],
   "source": [
    "99somename = 100      # Wrong way of defining identifiers"
   ]
  },
  {
   "cell_type": "code",
   "execution_count": 15,
   "metadata": {},
   "outputs": [
    {
     "name": "stdout",
     "output_type": "stream",
     "text": [
      "100\n"
     ]
    }
   ],
   "source": [
    "somename99 = 100      # Right way of defining identifiers\n",
    "print(somename99)"
   ]
  },
  {
   "cell_type": "code",
   "execution_count": 9,
   "metadata": {},
   "outputs": [
    {
     "ename": "SyntaxError",
     "evalue": "invalid syntax (<ipython-input-9-0a0e97cd82d8>, line 1)",
     "output_type": "error",
     "traceback": [
      "\u001b[0;36m  File \u001b[0;32m\"<ipython-input-9-0a0e97cd82d8>\"\u001b[0;36m, line \u001b[0;32m1\u001b[0m\n\u001b[0;31m    break = 1\u001b[0m\n\u001b[0m          ^\u001b[0m\n\u001b[0;31mSyntaxError\u001b[0m\u001b[0;31m:\u001b[0m invalid syntax\n"
     ]
    }
   ],
   "source": [
    "break = 1             # Cannot use keyword as identifiers"
   ]
  },
  {
   "cell_type": "markdown",
   "metadata": {},
   "source": [
    " We cannot use special symbols like !, @, #, $, % etc. in our identifier."
   ]
  },
  {
   "cell_type": "code",
   "execution_count": 10,
   "metadata": {},
   "outputs": [
    {
     "ename": "SyntaxError",
     "evalue": "invalid syntax (<ipython-input-10-74122af75f83>, line 1)",
     "output_type": "error",
     "traceback": [
      "\u001b[0;36m  File \u001b[0;32m\"<ipython-input-10-74122af75f83>\"\u001b[0;36m, line \u001b[0;32m1\u001b[0m\n\u001b[0;31m    hello@ = 10             #can't use special symbols as an identifier\u001b[0m\n\u001b[0m           ^\u001b[0m\n\u001b[0;31mSyntaxError\u001b[0m\u001b[0;31m:\u001b[0m invalid syntax\n"
     ]
    }
   ],
   "source": [
    "hello@ = 10           #can't use special symbols as an identifier"
   ]
  },
  {
   "cell_type": "markdown",
   "metadata": {},
   "source": [
    "### Few more correct identifiers"
   ]
  },
  {
   "cell_type": "code",
   "execution_count": 4,
   "metadata": {},
   "outputs": [
    {
     "name": "stdout",
     "output_type": "stream",
     "text": [
      "hello:  1\n",
      "hello123:  1\n",
      "hello_1:  1\n"
     ]
    },
    {
     "data": {
      "text/plain": [
       "True"
      ]
     },
     "execution_count": 4,
     "metadata": {},
     "output_type": "execute_result"
    }
   ],
   "source": [
    "hello = 1\n",
    "print('hello: ',hello)\n",
    "\n",
    "hello123 = 1\n",
    "print('hello123: ',hello123)\n",
    "\n",
    "hello_1 = 1\n",
    "print('hello_1: ',hello_1)\n",
    "\n",
    "'iNumber'.isidentifier()"
   ]
  },
  {
   "cell_type": "markdown",
   "metadata": {},
   "source": [
    "## Comments in Python"
   ]
  },
  {
   "cell_type": "markdown",
   "metadata": {},
   "source": [
    "A comment may appear at the start of a line or following whitespace or code, but not within a string literal.<br/>\n",
    "A hash character within a string literal is just a hash character.<br/>\n",
    "Comments are lines that are ignored by compilers and interpreters. <br/>\n",
    "### This is one of the best way to convey the idea behind the code and people reusing your code can easily make sense of your code"
   ]
  },
  {
   "cell_type": "markdown",
   "metadata": {},
   "source": [
    "### Single line comment"
   ]
  },
  {
   "cell_type": "code",
   "execution_count": 21,
   "metadata": {},
   "outputs": [],
   "source": [
    "# This is a single line comment. Has no effect on the code below\n",
    "abd = 10"
   ]
  },
  {
   "cell_type": "markdown",
   "metadata": {},
   "source": [
    "### Multi line comment"
   ]
  },
  {
   "cell_type": "code",
   "execution_count": null,
   "metadata": {},
   "outputs": [],
   "source": [
    "# You can write multiple lines of comment by putting a '#' at the beginning\n",
    "# You can write multiple lines of comment by putting a '#' at the beginning\n",
    "# You can write multiple lines of comment by putting a '#' at the beginning"
   ]
  },
  {
   "cell_type": "code",
   "execution_count": null,
   "metadata": {},
   "outputs": [],
   "source": [
    "'''\n",
    "A better option to write multi line comment is by adding all your \n",
    "text between a set of 3-single or 3-double quotes. Like we have done here\n",
    "'''"
   ]
  },
  {
   "cell_type": "code",
   "execution_count": 25,
   "metadata": {},
   "outputs": [
    {
     "data": {
      "text/plain": [
       "'\\nA better option to write multi line comment is by adding all your \\ntext between a set of 3-single or 3-double quotes. Like we have done here\\n'"
      ]
     },
     "execution_count": 25,
     "metadata": {},
     "output_type": "execute_result"
    }
   ],
   "source": [
    "\"\"\"\n",
    "A better option to write multi line comment is by adding all your \n",
    "text between a set of 3-single or 3-double quotes. Like we have done here\n",
    "\"\"\""
   ]
  },
  {
   "cell_type": "markdown",
   "metadata": {},
   "source": [
    "## Docstring in Python"
   ]
  },
  {
   "cell_type": "markdown",
   "metadata": {},
   "source": [
    "Docstring is short for documentation string.<p/>\n",
    "\n",
    "String that occurs as the first statement in a module, function, class, <br/>\n",
    "or method definition. Used to define what a function/class does."
   ]
  },
  {
   "cell_type": "code",
   "execution_count": 16,
   "metadata": {},
   "outputs": [
    {
     "name": "stdout",
     "output_type": "stream",
     "text": [
      "400\n"
     ]
    }
   ],
   "source": [
    "def square(num):\n",
    "    \"\"\"\n",
    "    Function to square a number. \n",
    "    Print this docstring using __doc__ attribute of the function\n",
    "    \"\"\"\n",
    "    return num * num\n",
    "\n",
    "print(square(20))"
   ]
  },
  {
   "cell_type": "code",
   "execution_count": 17,
   "metadata": {},
   "outputs": [
    {
     "name": "stdout",
     "output_type": "stream",
     "text": [
      "\n",
      "    Function to square a number. \n",
      "    Print this docstring using __doc__ attribute of the function\n",
      "    \n"
     ]
    }
   ],
   "source": [
    "print(square.__doc__)      # To print the docstring of a function use the __doc__ attribute of the function"
   ]
  },
  {
   "cell_type": "code",
   "execution_count": 18,
   "metadata": {},
   "outputs": [
    {
     "data": {
      "text/plain": [
       "<function __main__.square(num)>"
      ]
     },
     "execution_count": 18,
     "metadata": {},
     "output_type": "execute_result"
    }
   ],
   "source": [
    "square                     # Press shift+tab to view the docstring"
   ]
  },
  {
   "cell_type": "markdown",
   "metadata": {},
   "source": [
    "## Python Indentation "
   ]
  },
  {
   "cell_type": "markdown",
   "metadata": {},
   "source": [
    "Unlike C, C++,C#, Java where we use braces { } to define a block of code, in Python we use indentation.\n",
    "\n",
    "A code block (body of a function, loop etc.) starts with indentation and ends with the first unindented line. The amount of indentation is up to you, but it must be consistent throughout that block.\n",
    "\n",
    "Generally four whitespaces are used for indentation and is preferred over tabs.\n",
    "\n",
    "Leading whitespace (spaces and tabs) at the beginning of a logical line is used to compute the indentation level of the line, <b>which in turn is used to determine the grouping of statements</b>."
   ]
  },
  {
   "cell_type": "code",
   "execution_count": 24,
   "metadata": {},
   "outputs": [
    {
     "ename": "IndentationError",
     "evalue": "unexpected indent (<ipython-input-24-0c3bb24a507a>, line 2)",
     "output_type": "error",
     "traceback": [
      "\u001b[1;36m  File \u001b[1;32m\"<ipython-input-24-0c3bb24a507a>\"\u001b[1;36m, line \u001b[1;32m2\u001b[0m\n\u001b[1;33m    variable2 = 20          # Logical continuation disrupted\u001b[0m\n\u001b[1;37m    ^\u001b[0m\n\u001b[1;31mIndentationError\u001b[0m\u001b[1;31m:\u001b[0m unexpected indent\n"
     ]
    }
   ],
   "source": [
    "variable1 = 10\n",
    "  variable2 = 20          # Logical continuation disrupted"
   ]
  },
  {
   "cell_type": "code",
   "execution_count": 40,
   "metadata": {},
   "outputs": [],
   "source": [
    "variable1 = 10\n",
    "variable2 = 20"
   ]
  },
  {
   "cell_type": "code",
   "execution_count": 25,
   "metadata": {},
   "outputs": [
    {
     "name": "stdout",
     "output_type": "stream",
     "text": [
      "5\n",
      "10\n",
      "15\n"
     ]
    }
   ],
   "source": [
    "for i in range (1,4):\n",
    "    i = i * 5\n",
    "    print(i)              # Logical continuation maintained"
   ]
  },
  {
   "cell_type": "markdown",
   "metadata": {},
   "source": [
    "### Indentation is a good way to keep the code readable"
   ]
  },
  {
   "cell_type": "code",
   "execution_count": 51,
   "metadata": {},
   "outputs": [
    {
     "name": "stdout",
     "output_type": "stream",
     "text": [
      "1\n",
      "2\n",
      "3\n"
     ]
    }
   ],
   "source": [
    "variable1=10;variable2=20                   # Everything could be in one line but less readable. Multiple statement in one line\n",
    "\n",
    "for i in range (1,4): print(i)              # Everything could be in one line but less readable"
   ]
  },
  {
   "cell_type": "markdown",
   "metadata": {},
   "source": [
    "## Python Statement"
   ]
  },
  {
   "cell_type": "markdown",
   "metadata": {},
   "source": [
    "Instructions that a Python interpreter can execute are called statements. For example, a = 1 is an assignment statement. if statement, for statement, while statement etc. are other kinds of statements which will be discussed later."
   ]
  },
  {
   "cell_type": "markdown",
   "metadata": {},
   "source": [
    "### Single-line statement"
   ]
  },
  {
   "cell_type": "code",
   "execution_count": null,
   "metadata": {},
   "outputs": [],
   "source": [
    "number = 10"
   ]
  },
  {
   "cell_type": "markdown",
   "metadata": {},
   "source": [
    "### Multi-line statement \n",
    "(Use a continuation character '\\')"
   ]
  },
  {
   "cell_type": "code",
   "execution_count": 26,
   "metadata": {},
   "outputs": [
    {
     "name": "stdout",
     "output_type": "stream",
     "text": [
      "150\n"
     ]
    }
   ],
   "source": [
    "number = 10 + 20 + \\\n",
    "         30 + 40 + \\\n",
    "         50\n",
    "    \n",
    "print(number)\n"
   ]
  },
  {
   "cell_type": "markdown",
   "metadata": {},
   "source": [
    "(Alternately use brackets)"
   ]
  },
  {
   "cell_type": "code",
   "execution_count": 27,
   "metadata": {},
   "outputs": [
    {
     "name": "stdout",
     "output_type": "stream",
     "text": [
      "150\n"
     ]
    }
   ],
   "source": [
    "number = (10 + 20 + \n",
    "         30 + 40 + \n",
    "         50)\n",
    "    \n",
    "print(number)"
   ]
  }
 ],
 "metadata": {
  "kernelspec": {
   "display_name": "Python 3",
   "language": "python",
   "name": "python3"
  },
  "language_info": {
   "codemirror_mode": {
    "name": "ipython",
    "version": 3
   },
   "file_extension": ".py",
   "mimetype": "text/x-python",
   "name": "python",
   "nbconvert_exporter": "python",
   "pygments_lexer": "ipython3",
   "version": "3.7.4"
  },
  "toc": {
   "base_numbering": 1,
   "nav_menu": {},
   "number_sections": true,
   "sideBar": true,
   "skip_h1_title": true,
   "title_cell": "Table of Contents",
   "title_sidebar": "Contents",
   "toc_cell": true,
   "toc_position": {},
   "toc_section_display": true,
   "toc_window_display": false
  }
 },
 "nbformat": 4,
 "nbformat_minor": 2
}
