{
 "cells": [
  {
   "cell_type": "markdown",
   "metadata": {
    "toc": true
   },
   "source": [
    "<h1>Table of Contents<span class=\"tocSkip\"></span></h1>\n",
    "<div class=\"toc\"><ul class=\"toc-item\"><li><span><a href=\"#Operator-Types\" data-toc-modified-id=\"Operator-Types-1\"><span class=\"toc-item-num\">1&nbsp;&nbsp;</span>Operator Types</a></span></li><li><span><a href=\"#Arithmetic-Operators\" data-toc-modified-id=\"Arithmetic-Operators-2\"><span class=\"toc-item-num\">2&nbsp;&nbsp;</span>Arithmetic Operators</a></span></li><li><span><a href=\"#Comparision-Operators\" data-toc-modified-id=\"Comparision-Operators-3\"><span class=\"toc-item-num\">3&nbsp;&nbsp;</span>Comparision Operators</a></span></li><li><span><a href=\"#Logical-Operators\" data-toc-modified-id=\"Logical-Operators-4\"><span class=\"toc-item-num\">4&nbsp;&nbsp;</span>Logical Operators</a></span></li><li><span><a href=\"#Bitwise-operators\" data-toc-modified-id=\"Bitwise-operators-5\"><span class=\"toc-item-num\">5&nbsp;&nbsp;</span>Bitwise operators</a></span></li><li><span><a href=\"#Assignment-operators\" data-toc-modified-id=\"Assignment-operators-6\"><span class=\"toc-item-num\">6&nbsp;&nbsp;</span>Assignment operators</a></span></li><li><span><a href=\"#Special-Operators\" data-toc-modified-id=\"Special-Operators-7\"><span class=\"toc-item-num\">7&nbsp;&nbsp;</span>Special Operators</a></span><ul class=\"toc-item\"><li><span><a href=\"#Identity-Operators\" data-toc-modified-id=\"Identity-Operators-7.1\"><span class=\"toc-item-num\">7.1&nbsp;&nbsp;</span>Identity Operators</a></span></li><li><span><a href=\"#MemberShip-Operators\" data-toc-modified-id=\"MemberShip-Operators-7.2\"><span class=\"toc-item-num\">7.2&nbsp;&nbsp;</span>MemberShip Operators</a></span></li></ul></li><li><span><a href=\"#Python-if---else-Statement\" data-toc-modified-id=\"Python-if---else-Statement-8\"><span class=\"toc-item-num\">8&nbsp;&nbsp;</span>Python if - else Statement</a></span><ul class=\"toc-item\"><li><span><a href=\"#Let-us-see-the-Python-Syntax-for-if-statement\" data-toc-modified-id=\"Let-us-see-the-Python-Syntax-for-if-statement-8.1\"><span class=\"toc-item-num\">8.1&nbsp;&nbsp;</span>Let us see the Python Syntax for if statement<br><br></a></span><ul class=\"toc-item\"><li><span><a href=\"#Flow-Chart-on-how-if-statement-helps-in-Decision-Making\" data-toc-modified-id=\"Flow-Chart-on-how-if-statement-helps-in-Decision-Making-8.1.1\"><span class=\"toc-item-num\">8.1.1&nbsp;&nbsp;</span>Flow Chart on how if-statement helps in Decision Making</a></span></li><li><span><a href=\"#Examples-of-if-statement\" data-toc-modified-id=\"Examples-of-if-statement-8.1.2\"><span class=\"toc-item-num\">8.1.2&nbsp;&nbsp;</span>Examples of if-statement</a></span></li></ul></li><li><span><a href=\"#13.1.2-Python-if...else---Statement\" data-toc-modified-id=\"13.1.2-Python-if...else---Statement-8.2\"><span class=\"toc-item-num\">8.2&nbsp;&nbsp;</span>13.1.2 Python if...else - Statement</a></span></li><li><span><a href=\"#Flow-Chart-on-how-if...else-statement-helps-in-Decision-Making\" data-toc-modified-id=\"Flow-Chart-on-how-if...else-statement-helps-in-Decision-Making-8.3\"><span class=\"toc-item-num\">8.3&nbsp;&nbsp;</span>Flow Chart on how if...else-statement helps in Decision Making</a></span><ul class=\"toc-item\"><li><span><a href=\"#Examples-of-if...else-statement\" data-toc-modified-id=\"Examples-of-if...else-statement-8.3.1\"><span class=\"toc-item-num\">8.3.1&nbsp;&nbsp;</span>Examples of if...else-statement</a></span></li></ul></li><li><span><a href=\"#if..elif..else-Statement\" data-toc-modified-id=\"if..elif..else-Statement-8.4\"><span class=\"toc-item-num\">8.4&nbsp;&nbsp;</span>if..elif..else Statement</a></span><ul class=\"toc-item\"><li><span><a href=\"#Flow-Chart-on-how-if..elif..else-statement-helps-in-Decision-Making\" data-toc-modified-id=\"Flow-Chart-on-how-if..elif..else-statement-helps-in-Decision-Making-8.4.1\"><span class=\"toc-item-num\">8.4.1&nbsp;&nbsp;</span>Flow Chart on how if..elif..else-statement helps in Decision Making</a></span></li></ul></li><li><span><a href=\"#Nested-if-Statements\" data-toc-modified-id=\"Nested-if-Statements-8.5\"><span class=\"toc-item-num\">8.5&nbsp;&nbsp;</span>Nested if Statements</a></span><ul class=\"toc-item\"><li><span><a href=\"#Example-of-Nested-if-statements\" data-toc-modified-id=\"Example-of-Nested-if-statements-8.5.1\"><span class=\"toc-item-num\">8.5.1&nbsp;&nbsp;</span>Example of <b>Nested if</b> statements</a></span></li></ul></li></ul></li><li><span><a href=\"#Loops-in-Python\" data-toc-modified-id=\"Loops-in-Python-9\"><span class=\"toc-item-num\">9&nbsp;&nbsp;</span>Loops in Python</a></span><ul class=\"toc-item\"><li><span><a href=\"#while-loop\" data-toc-modified-id=\"while-loop-9.1\"><span class=\"toc-item-num\">9.1&nbsp;&nbsp;</span>while loop</a></span><ul class=\"toc-item\"><li><span><a href=\"#Syntax\" data-toc-modified-id=\"Syntax-9.1.1\"><span class=\"toc-item-num\">9.1.1&nbsp;&nbsp;</span>Syntax</a></span></li><li><span><a href=\"#Flowchart-of-while-loop\" data-toc-modified-id=\"Flowchart-of-while-loop-9.1.2\"><span class=\"toc-item-num\">9.1.2&nbsp;&nbsp;</span>Flowchart of <u>while</u> loop</a></span></li><li><span><a href=\"#Examples-of-while-loop\" data-toc-modified-id=\"Examples-of-while-loop-9.1.3\"><span class=\"toc-item-num\">9.1.3&nbsp;&nbsp;</span>Examples of while loop</a></span></li><li><span><a href=\"#Examples-of-while-Loop-with-else-statement\" data-toc-modified-id=\"Examples-of-while-Loop-with-else-statement-9.1.4\"><span class=\"toc-item-num\">9.1.4&nbsp;&nbsp;</span>Examples of while Loop with else statement</a></span></li><li><span><a href=\"#Example:-Calculate-the-factorial-of-a-number\" data-toc-modified-id=\"Example:-Calculate-the-factorial-of-a-number-9.1.5\"><span class=\"toc-item-num\">9.1.5&nbsp;&nbsp;</span>Example: Calculate the factorial of a number</a></span></li></ul></li><li><span><a href=\"#for-loop\" data-toc-modified-id=\"for-loop-9.2\"><span class=\"toc-item-num\">9.2&nbsp;&nbsp;</span>for loop</a></span><ul class=\"toc-item\"><li><span><a href=\"#Syntax:\" data-toc-modified-id=\"Syntax:-9.2.1\"><span class=\"toc-item-num\">9.2.1&nbsp;&nbsp;</span>Syntax:</a></span></li><li><span><a href=\"#Flowchart-of-for-loop\" data-toc-modified-id=\"Flowchart-of-for-loop-9.2.2\"><span class=\"toc-item-num\">9.2.2&nbsp;&nbsp;</span>Flowchart of <u>for</u> loop</a></span></li><li><span><a href=\"#range()-function\" data-toc-modified-id=\"range()-function-9.2.3\"><span class=\"toc-item-num\">9.2.3&nbsp;&nbsp;</span>range() function</a></span><ul class=\"toc-item\"><li><span><a href=\"#range(start,stop,step-size)\" data-toc-modified-id=\"range(start,stop,step-size)-9.2.3.1\"><span class=\"toc-item-num\">9.2.3.1&nbsp;&nbsp;</span>range(start,stop,step size)</a></span></li></ul></li><li><span><a href=\"#for-loop-with-else\" data-toc-modified-id=\"for-loop-with-else-9.2.4\"><span class=\"toc-item-num\">9.2.4&nbsp;&nbsp;</span>for loop with else</a></span></li><li><span><a href=\"#Example:-Program-to-calculate-the-divisors-of-number\" data-toc-modified-id=\"Example:-Program-to-calculate-the-divisors-of-number-9.2.5\"><span class=\"toc-item-num\">9.2.5&nbsp;&nbsp;</span>Example: Program to calculate the divisors of number</a></span></li></ul></li><li><span><a href=\"#break-&amp;-continue-in-Python\" data-toc-modified-id=\"break-&amp;-continue-in-Python-9.3\"><span class=\"toc-item-num\">9.3&nbsp;&nbsp;</span><u>break &amp; continue</u> in Python</a></span><ul class=\"toc-item\"><li><span><a href=\"#Python-break-Statement\" data-toc-modified-id=\"Python-break-Statement-9.3.1\"><span class=\"toc-item-num\">9.3.1&nbsp;&nbsp;</span>Python break Statement</a></span></li><li><span><a href=\"#Python-continue-Statement\" data-toc-modified-id=\"Python-continue-Statement-9.3.2\"><span class=\"toc-item-num\">9.3.2&nbsp;&nbsp;</span>Python continue Statement</a></span></li><li><span><a href=\"#Flowchart-of-break-and-continue-loop\" data-toc-modified-id=\"Flowchart-of-break-and-continue-loop-9.3.3\"><span class=\"toc-item-num\">9.3.3&nbsp;&nbsp;</span>Flowchart of <u>break and continue</u> loop</a></span></li><li><span><a href=\"#Examples-of-break-and-continue\" data-toc-modified-id=\"Examples-of-break-and-continue-9.3.4\"><span class=\"toc-item-num\">9.3.4&nbsp;&nbsp;</span>Examples of break and continue</a></span></li><li><span><a href=\"#Example:-First-3-divisors-of-a-number-except-2-&amp;-3\" data-toc-modified-id=\"Example:-First-3-divisors-of-a-number-except-2-&amp;-3-9.3.5\"><span class=\"toc-item-num\">9.3.5&nbsp;&nbsp;</span>Example: First 3 divisors of a number except 2 &amp; 3</a></span></li></ul></li></ul></li></ul></div>"
   ]
  },
  {
   "cell_type": "markdown",
   "metadata": {},
   "source": [
    "# Python Basics (Day - 4)\n",
    "<img height=\"60\" width=\"120\" src=\"https://www.python.org/static/img/python-logo-large.png?1414305901\"></img>"
   ]
  },
  {
   "cell_type": "markdown",
   "metadata": {},
   "source": [
    "# Operators"
   ]
  },
  {
   "cell_type": "markdown",
   "metadata": {},
   "source": [
    "Operators are the constructs which can help manipulate the value of operands.<br/>\n",
    "Consider the expression 4 + 5 = 9. Here, <i><b>4 and 5</b></i> are called <i><b>operands</b></i> and <i><b>+</b></i> is called <i><b>operator</b></i>."
   ]
  },
  {
   "cell_type": "markdown",
   "metadata": {},
   "source": [
    "## Operator Types"
   ]
  },
  {
   "cell_type": "markdown",
   "metadata": {},
   "source": [
    "The different operators in Python are as below\n",
    "\n",
    "1. Arithmetic operators\n",
    "    \n",
    "2. Comparison (Relational) operators\n",
    "\n",
    "3. Logical (Boolean) operators\n",
    "\n",
    "4. Bitwise operators\n",
    "\n",
    "5. Assignment operators\n",
    "\n",
    "6. Special operators\n",
    "\n",
    "Let us discuss them one by one"
   ]
  },
  {
   "cell_type": "markdown",
   "metadata": {},
   "source": [
    "## Arithmetic Operators"
   ]
  },
  {
   "cell_type": "markdown",
   "metadata": {},
   "source": [
    "Arithmetic operators are used to perform mathematical operations like addition, subtraction, multiplication etc."
   ]
  },
  {
   "cell_type": "markdown",
   "metadata": {},
   "source": [
    "    + , -, *, /, %, //, **  are arithmetic operators"
   ]
  },
  {
   "cell_type": "markdown",
   "metadata": {},
   "source": [
    "Example:"
   ]
  },
  {
   "cell_type": "code",
   "execution_count": 36,
   "metadata": {},
   "outputs": [
    {
     "name": "stdout",
     "output_type": "stream",
     "text": [
      "7\n",
      "3\n",
      "10\n",
      "2.5\n",
      "1\n",
      "2\n",
      "25\n"
     ]
    }
   ],
   "source": [
    "variable1, variable2 = 5, 2\n",
    "\n",
    "print(variable1 + variable2)  # Addition(+)\n",
    "\n",
    "print(variable1 - variable2)  # Subtraction(-)\n",
    "\n",
    "print(variable1 * variable2)  # Multiplication(*)\n",
    "\n",
    "print(variable1 / variable2)  # Division(/)\n",
    "\n",
    "print(variable1 % variable2)  # Modulo division (%)\n",
    "\n",
    "print(variable1 // variable2) # Floor Division (//)\n",
    "\n",
    "print(variable1 ** variable2) # Exponent (**)"
   ]
  },
  {
   "cell_type": "markdown",
   "metadata": {},
   "source": [
    "## Comparision Operators"
   ]
  },
  {
   "cell_type": "markdown",
   "metadata": {},
   "source": [
    "Comparison operators are used to compare values. It either returns True or False according to the condition."
   ]
  },
  {
   "cell_type": "markdown",
   "metadata": {},
   "source": [
    "    >, <, ==, !=, >=, <= are comparision operators"
   ]
  },
  {
   "cell_type": "code",
   "execution_count": 42,
   "metadata": {},
   "outputs": [
    {
     "name": "stdout",
     "output_type": "stream",
     "text": [
      "False\n",
      "True\n",
      "False\n",
      "True\n",
      "True\n",
      "False\n"
     ]
    }
   ],
   "source": [
    "variable1, variable2 = 5, 2         \n",
    "\n",
    "print(variable1 < variable2)   # Check if variable1 is less than variable2\n",
    "\n",
    "print(variable1 > variable2)   # Check if variable1 is greater than variable2\n",
    "\n",
    "print(variable1 == variable2)  # Check if variable1 is equal to variable2\n",
    "\n",
    "print(variable1 != variable2)  # Check if variable1 is not equal to variable2 (!=)\n",
    "\n",
    "print(variable1 >= variable2)  # Check if variable1 greater than or equal to variable2\n",
    "\n",
    "print(variable1 <= variable2)  # Check if variable1 less than or equal to variable2\n"
   ]
  },
  {
   "cell_type": "markdown",
   "metadata": {},
   "source": [
    "## Logical Operators"
   ]
  },
  {
   "cell_type": "markdown",
   "metadata": {},
   "source": [
    "Logical operators are  **and, or, not** operators."
   ]
  },
  {
   "cell_type": "code",
   "execution_count": 45,
   "metadata": {},
   "outputs": [
    {
     "name": "stdout",
     "output_type": "stream",
     "text": [
      "False\n",
      "True\n",
      "True\n"
     ]
    }
   ],
   "source": [
    "variable1, variable2 = True, False\n",
    "\n",
    "print(variable1 and variable2)  # Print variable1 and variable2 \n",
    "\n",
    "# 0 0 0\n",
    "# 0 1 0\n",
    "# 1 0 0\n",
    "# 1 1 1\n",
    "\n",
    "print(variable1 or variable2)  # Print variable1 or variable2\n",
    "\n",
    "# 0 0 0\n",
    "# 0 1 1\n",
    "# 1 0 1\n",
    "# 1 1 1\n",
    "\n",
    "print(not variable2)           # Print not variable2\n"
   ]
  },
  {
   "cell_type": "markdown",
   "metadata": {},
   "source": [
    "## Bitwise operators"
   ]
  },
  {
   "cell_type": "markdown",
   "metadata": {},
   "source": [
    "Bitwise operators act on operands as if they were string of binary digits. It operates bit by bit"
   ]
  },
  {
   "cell_type": "markdown",
   "metadata": {},
   "source": [
    "    &,  |,  ~,  ^,  >>,  << are Bitwise operators"
   ]
  },
  {
   "cell_type": "code",
   "execution_count": 1,
   "metadata": {},
   "outputs": [
    {
     "name": "stdout",
     "output_type": "stream",
     "text": [
      "3\n",
      "7\n",
      "-8\n",
      "4\n",
      "0\n",
      "12\n"
     ]
    }
   ],
   "source": [
    "variable1, variable2 = 3, 7            # Decimal to bitwise values -> 3 - 0000 0011 & 7 - 0000 0111\n",
    "\n",
    "print(variable1 & variable2)           # Bitwise AND ->       0000 0011 & 0000 0111 -> 0000 0011 -> 3\n",
    "\n",
    "\n",
    "print(variable1 | variable2)           # Bitwise OR ->        0000 0011 | 0000 0111 -> 0000 0111 -> 7\n",
    "\n",
    "\n",
    "print(~variable2)                      # Bitwise NOT ->     ~ 0000 0111 -> 1111 1000 -> -8\n",
    "\n",
    "\n",
    "print(variable1 ^ variable2)           # Bitwise XOR ->       0000 0011 ^ 0000 0111 -> 0000 0100 -> 4\n",
    "\n",
    "\n",
    "print(variable1>>2)                    # Bitwise rightshift   0000 0011>>2 -> 0000 0000 -> 0\n",
    "\n",
    "\n",
    "print(variable1<<2)                    # Bitwise Leftshift    0000 0011<<2 -> 0000 1100 -> 12"
   ]
  },
  {
   "cell_type": "markdown",
   "metadata": {},
   "source": [
    "## Assignment operators"
   ]
  },
  {
   "cell_type": "markdown",
   "metadata": {},
   "source": [
    "<u>Assignment operators</u> are used in Python to <i><b>assign values to variables</b></i>.\n",
    "\n",
    "age = 50 is a simple assignment operator that assigns the value 50 on the right to the variable (age) a on the left."
   ]
  },
  {
   "cell_type": "markdown",
   "metadata": {},
   "source": [
    "    =,  +=,  -=,  *=,  /=,  %=,  //=,  **=, &=,  |=,  ^=,  >>=,  <<= are Assignment operators"
   ]
  },
  {
   "cell_type": "code",
   "execution_count": 82,
   "metadata": {},
   "outputs": [
    {
     "name": "stdout",
     "output_type": "stream",
     "text": [
      "44\n",
      "37\n",
      "148\n",
      "37.0\n",
      "17.0\n",
      "4.0\n",
      "256.0\n"
     ]
    }
   ],
   "source": [
    "age = 40\n",
    "\n",
    "age += 4        # Add AND  <- age = age + 4\n",
    "print(age)\n",
    "\n",
    "age -= 7        # Subtract AND (-=)\n",
    "print(age)\n",
    "\n",
    "age *= 4        # Multiply AND (*=)\n",
    "print(age)\n",
    "\n",
    "age /= 4        # Divide AND (/=)\n",
    "print(age)\n",
    "\n",
    "age %= 20       # Modulus AND (%=)\n",
    "print(age)\n",
    "\n",
    "age //= 4       # Floor Division (//=)\n",
    "print(age)\n",
    "\n",
    "age **= 4       # Exponent AND (**=)\n",
    "print(age)"
   ]
  },
  {
   "cell_type": "markdown",
   "metadata": {},
   "source": [
    "## Special Operators"
   ]
  },
  {
   "cell_type": "markdown",
   "metadata": {},
   "source": [
    "### Identity Operators"
   ]
  },
  {
   "cell_type": "markdown",
   "metadata": {},
   "source": [
    "**is and is not** are the <u>identity operators</u> in Python. \n",
    "\n",
    "They are used to verify if two values (or variables) are located in the same part of the memory."
   ]
  },
  {
   "cell_type": "code",
   "execution_count": 84,
   "metadata": {},
   "outputs": [
    {
     "name": "stdout",
     "output_type": "stream",
     "text": [
      "True\n",
      "False\n"
     ]
    }
   ],
   "source": [
    "variable1 = 20\n",
    "variable2 = 20\n",
    "print(variable1 is variable2)            # 20 is created once & both variable1 and variable2 points to same object\n",
    "\n",
    "#check is not\n",
    "print(variable1 is not variable2)"
   ]
  },
  {
   "cell_type": "code",
   "execution_count": 85,
   "metadata": {},
   "outputs": [
    {
     "name": "stdout",
     "output_type": "stream",
     "text": [
      "False\n"
     ]
    }
   ],
   "source": [
    "myList1 = [1,2,3]\n",
    "myList2 = [1,2,3]\n",
    "\n",
    "print(myList1 is myList2)"
   ]
  },
  {
   "cell_type": "code",
   "execution_count": 87,
   "metadata": {},
   "outputs": [
    {
     "name": "stdout",
     "output_type": "stream",
     "text": [
      "False\n"
     ]
    }
   ],
   "source": [
    "myString1 = \"Suchit\"\n",
    "myString2 = \"Suchit\"\n",
    "print(myString1 is not myString2)"
   ]
  },
  {
   "cell_type": "markdown",
   "metadata": {},
   "source": [
    "### MemberShip Operators"
   ]
  },
  {
   "cell_type": "markdown",
   "metadata": {},
   "source": [
    "**in and not in** are the membership operators in Python. \n",
    "    \n",
    "They are used to test whether a value or variable is found in a sequence (string, list, tuple, set and   dictionary)."
   ]
  },
  {
   "cell_type": "code",
   "execution_count": 89,
   "metadata": {},
   "outputs": [
    {
     "name": "stdout",
     "output_type": "stream",
     "text": [
      "True\n",
      "True\n"
     ]
    }
   ],
   "source": [
    "myList3 = ['a', 22, 'b', 100]\n",
    "print(22 in myList3)                  # Check if 22 is present in the given list or not\n",
    "\n",
    "print('b' in myList3)                 # Check if 'b' is present in the given list"
   ]
  },
  {
   "cell_type": "code",
   "execution_count": 92,
   "metadata": {},
   "outputs": [
    {
     "name": "stdout",
     "output_type": "stream",
     "text": [
      "True\n"
     ]
    }
   ],
   "source": [
    "myDictionary = {125 : 'Apple', 200 : 'Banana'}\n",
    "print(125 in myDictionary)"
   ]
  },
  {
   "cell_type": "markdown",
   "metadata": {},
   "source": [
    "# Control Flow"
   ]
  },
  {
   "cell_type": "markdown",
   "metadata": {},
   "source": [
    "## Python if - else Statement\n",
    "\n",
    "If - else statements are used for **decision making**, let us see a simple examle,\n",
    "\n",
    "if 'It rains':<br/>\n",
    "&nbsp;&nbsp;&nbsp;&nbsp;'Dont play golf'<br/>\n",
    "else: <br/>\n",
    "&nbsp;&nbsp;&nbsp;&nbsp;if 'It is too hot':<br/>\n",
    "&nbsp;&nbsp;&nbsp;&nbsp;&nbsp;&nbsp;&nbsp;&nbsp;'Dont play golf'<br/>\n",
    "&nbsp;&nbsp;&nbsp;&nbsp;else:<br/>\n",
    "&nbsp;&nbsp;&nbsp;&nbsp;&nbsp;&nbsp;&nbsp;&nbsp;'Play golf'<br/>\n",
    "\n",
    "---\n",
    "**else if** can be combined to form ***elif***\n",
    "\n",
    "if 'It rains':<br/>\n",
    "&nbsp;&nbsp;&nbsp;&nbsp;'Dont play golf'<br/>\n",
    "elif 'It is too hot':<br/>\n",
    "&nbsp;&nbsp;&nbsp;&nbsp;'Dont play golf'<br/>\n",
    "else:<br/>\n",
    "&nbsp;&nbsp;&nbsp;&nbsp;'Play golf'<br/>\n",
    "\n",
    "---"
   ]
  },
  {
   "cell_type": "markdown",
   "metadata": {},
   "source": [
    "### Let us see the Python Syntax for if statement<br/><br/>\n",
    "\n",
    "    if test expression:\n",
    "        statement(s)\n",
    "---    \n",
    "<br/><br/>\n",
    "The program evaluates the test expression and will execute statement(s) only if the text expression is True.\n",
    "\n",
    "If the text expression is False, the statement(s) is not executed.\n",
    "\n",
    "Python interprets non-zero values as True. None and 0 are interpreted as False.\n",
    "\n",
    "---"
   ]
  },
  {
   "cell_type": "markdown",
   "metadata": {},
   "source": [
    "#### Flow Chart on how if-statement helps in Decision Making\n",
    "\n",
    "<img height=\"200\" width=\"400\" src=\"https://github.com/suchitmajumdar/LearnPython/blob/master/images/Python_if_statement.jpg?raw=true\"></img>\n"
   ]
  },
  {
   "cell_type": "markdown",
   "metadata": {},
   "source": [
    "#### Examples of if-statement"
   ]
  },
  {
   "cell_type": "code",
   "execution_count": 95,
   "metadata": {},
   "outputs": [
    {
     "name": "stdout",
     "output_type": "stream",
     "text": [
      "Outside if block\n"
     ]
    }
   ],
   "source": [
    "number = 20\n",
    "\n",
    "if number<15:\n",
    "    print('Number is less than 15')\n",
    "print('Outside if block')"
   ]
  },
  {
   "cell_type": "code",
   "execution_count": 104,
   "metadata": {},
   "outputs": [
    {
     "name": "stdout",
     "output_type": "stream",
     "text": [
      "Inside if\n",
      "Outside if\n",
      "True\n"
     ]
    }
   ],
   "source": [
    "# try 0, -1 and None\n",
    "if -1:\n",
    "    print(\"Inside if\")\n",
    "print(\"Outside if\")                #This print statement always print\n",
    "\n",
    "# What is the idea behind the above\n",
    "val = -1\n",
    "print(bool(val))"
   ]
  },
  {
   "cell_type": "markdown",
   "metadata": {},
   "source": [
    "---\n",
    "\n",
    "### 13.1.2 Python if...else - Statement\n",
    "\n",
    "Syntax of if ... else statement is as follows\n",
    "\n",
    "    if test expression:\n",
    "    \n",
    "        Body of if\n",
    "\n",
    "    else: \n",
    "    \n",
    "        Body of else"
   ]
  },
  {
   "cell_type": "markdown",
   "metadata": {},
   "source": [
    "### Flow Chart on how if...else-statement helps in Decision Making\n",
    "\n",
    "<img height=\"200\" width=\"400\" src=\"https://github.com/suchitmajumdar/LearnPython/blob/master/images/flowchart-if-else-programming.jpg?raw=true\"></img>\n"
   ]
  },
  {
   "cell_type": "markdown",
   "metadata": {},
   "source": [
    "#### Examples of if...else-statement"
   ]
  },
  {
   "cell_type": "code",
   "execution_count": 106,
   "metadata": {},
   "outputs": [
    {
     "name": "stdout",
     "output_type": "stream",
     "text": [
      "Adult\n"
     ]
    }
   ],
   "source": [
    "age = 21\n",
    "if age > 18:\n",
    "    print('Adult')\n",
    "else:\n",
    "    print('Child')"
   ]
  },
  {
   "cell_type": "markdown",
   "metadata": {},
   "source": [
    "---\n",
    "\n",
    "### if..elif..else Statement"
   ]
  },
  {
   "cell_type": "markdown",
   "metadata": {},
   "source": [
    "The syntax for **if..elif..else** Statement is as follows\n",
    "\n",
    "\n",
    "    if test expression:\n",
    "\n",
    "        Body of if\n",
    "    elif test expression:\n",
    "    \n",
    "        Body of elif\n",
    "    else: \n",
    "    \n",
    "        Body of else"
   ]
  },
  {
   "cell_type": "markdown",
   "metadata": {},
   "source": [
    "#### Flow Chart on how if..elif..else-statement helps in Decision Making\n",
    "\n",
    "<img height=\"200\" width=\"500\" src=\"https://github.com/suchitmajumdar/LearnPython/blob/master/images/python_ifelseif.jpg?raw=true\"></img>\n"
   ]
  },
  {
   "cell_type": "code",
   "execution_count": 108,
   "metadata": {},
   "outputs": [
    {
     "name": "stdout",
     "output_type": "stream",
     "text": [
      "Adult\n"
     ]
    }
   ],
   "source": [
    "age = 20\n",
    "\n",
    "if age > 19:\n",
    "    print('Adult')\n",
    "elif age > 12:\n",
    "    print('Teen')\n",
    "else:\n",
    "    print('Child')"
   ]
  },
  {
   "cell_type": "markdown",
   "metadata": {},
   "source": [
    "---\n",
    "\n",
    "###  Nested if Statements"
   ]
  },
  {
   "cell_type": "markdown",
   "metadata": {},
   "source": [
    "We can have a if...elif...else statement inside another if...elif...else statement. This is called nesting in computer programming.\n",
    "\n",
    "Any number of these statements can be nested inside one another. Indentation is the only way to figure out the level of nesting. This can get confusing, so must be avoided if we can."
   ]
  },
  {
   "cell_type": "markdown",
   "metadata": {},
   "source": [
    "#### Example of <b>Nested if</b> statements"
   ]
  },
  {
   "cell_type": "code",
   "execution_count": 112,
   "metadata": {},
   "outputs": [
    {
     "name": "stdout",
     "output_type": "stream",
     "text": [
      "Teen\n",
      "This will always get executed\n"
     ]
    }
   ],
   "source": [
    "age = 14\n",
    "\n",
    "if age >=13:\n",
    "    if age <=19:\n",
    "        print('Teen')\n",
    "    else:\n",
    "        print('Adult')\n",
    "else:\n",
    "    print('Child')\n",
    "    \n",
    "    \n",
    "    \n",
    "print('This will always get executed')"
   ]
  },
  {
   "cell_type": "markdown",
   "metadata": {},
   "source": [
    "Combining **Operators** in if-statements"
   ]
  },
  {
   "cell_type": "code",
   "execution_count": 115,
   "metadata": {},
   "outputs": [
    {
     "name": "stdout",
     "output_type": "stream",
     "text": [
      "The person is in category: Child\n"
     ]
    }
   ],
   "source": [
    "age = 1\n",
    "person_type = 'not sure'\n",
    "\n",
    "if (age >= 13) and (age<=19):          # Using the logical operator : and\n",
    "    person_type = 'Teen'\n",
    "elif (age >= 0) and (age <=12):\n",
    "    person_type = 'Child'\n",
    "else:\n",
    "    person_type = 'Adult'\n",
    "print('The person is in category: {}'.format(person_type))"
   ]
  },
  {
   "cell_type": "markdown",
   "metadata": {},
   "source": [
    "## Loops in Python"
   ]
  },
  {
   "cell_type": "markdown",
   "metadata": {},
   "source": [
    "### while loop\n",
    "\n",
    "Use while loop to iterate over a block of code as long as the test expression (also called test condition) is true.\n",
    "\n",
    "#### Syntax\n",
    "\n",
    "    while test_expression:\n",
    "        \n",
    "        Body of while\n",
    "\n",
    "\n",
    "The body of the loop is entered only if the test_expression evaluates to True. \n",
    "\n",
    "After one iteration, the test expression is checked again. \n",
    "\n",
    "This process continues until the test_expression evaluates to False.\n"
   ]
  },
  {
   "cell_type": "markdown",
   "metadata": {},
   "source": [
    "#### Flowchart of <u>while</u> loop\n",
    "\n",
    "<img height=\"200\" width=\"400\" src=\"https://github.com/suchitmajumdar/LearnPython/blob/master/images/while_0.png?raw=true\"></img>\n"
   ]
  },
  {
   "cell_type": "markdown",
   "metadata": {},
   "source": [
    "#### Examples of while loop"
   ]
  },
  {
   "cell_type": "code",
   "execution_count": 116,
   "metadata": {},
   "outputs": [
    {
     "name": "stdout",
     "output_type": "stream",
     "text": [
      "Sum of the array is: 15\n"
     ]
    }
   ],
   "source": [
    "# Find the sum of all numbers in a list\n",
    "\n",
    "myList = [1, 2, 3, 4, 5]\n",
    "\n",
    "sum = 0\n",
    "index = 0\n",
    "\n",
    "while index < len(myList):\n",
    "    sum += myList[index]                      # sum = sum + myList[index]\n",
    "    index += 1                                # index = index + 1\n",
    "print('Sum of the array is: {}'.format(sum))"
   ]
  },
  {
   "cell_type": "markdown",
   "metadata": {},
   "source": [
    "#### Examples of while Loop with else statement\n",
    "\n",
    "While loop has an optional <b>else</b> block which one may use if one wishes to use it.<br/>\n",
    "The else block gets executed when the condition in while statement is <b>False</b>.<br/>\n",
    "\n",
    "The <b>else</b> can be skipped if we use a <b>break</b> command in the while block"
   ]
  },
  {
   "cell_type": "code",
   "execution_count": 119,
   "metadata": {},
   "outputs": [
    {
     "name": "stdout",
     "output_type": "stream",
     "text": [
      "1\n",
      "Eitherway printed\n"
     ]
    }
   ],
   "source": [
    "myList = [1, 2, 3, 4, 5]\n",
    "\n",
    "#iterating over the list\n",
    "index = 0\n",
    "while index < len(myList):\n",
    "    print(myList[index])\n",
    "    break\n",
    "    index += 1\n",
    "else:\n",
    "    print('Completed iterating the list')\n",
    "    \n",
    "print('Eitherway printed')"
   ]
  },
  {
   "cell_type": "markdown",
   "metadata": {},
   "source": [
    "#### Example: Calculate the factorial of a number"
   ]
  },
  {
   "cell_type": "code",
   "execution_count": 120,
   "metadata": {},
   "outputs": [
    {
     "name": "stdout",
     "output_type": "stream",
     "text": [
      "Enter a positive non-zero number: -9\n",
      "Invalid number please re-enter\n",
      "Enter a positive non-zero number: 6\n",
      "The factorial of the number is:  720\n"
     ]
    }
   ],
   "source": [
    "userInput = input(\"Enter a positive non-zero number: \")\n",
    "number = int(userInput)\n",
    "\n",
    "if number <= 0:\n",
    "    print('Invalid number please re-enter')\n",
    "    userInput = input(\"Enter a positive non-zero number: \")\n",
    "    number = int(userInput)\n",
    "    \n",
    "else:\n",
    "    print('Thank you, let me share the result with you')\n",
    "\n",
    "fact = 1\n",
    "if number > 0:\n",
    "    while number > 0:\n",
    "        fact *= number                                      # fact = fact * number\n",
    "        number -= 1                                         # number = number -1\n",
    "    print('The factorial of the number is: ', fact)\n",
    "        "
   ]
  },
  {
   "cell_type": "markdown",
   "metadata": {},
   "source": [
    "---\n",
    "\n",
    "### for loop"
   ]
  },
  {
   "cell_type": "markdown",
   "metadata": {},
   "source": [
    "<b>for</b> loop in one of the most often used Python looping technque to iterate over a sequence (list, tuple, string) or other iterable objects. \n",
    "    \n",
    "Iterating over a sequence is called traversal.\n",
    "\n",
    "#### Syntax:\n",
    "\n",
    "    for element in sequence :\n",
    "\n",
    "        'for' code block  \n",
    "        \n",
    "\n",
    "Here, element is the variable that takes the value of the item inside the sequence on each iteration.\n",
    "\n",
    "Loop continues until we reach the last item in the sequence. "
   ]
  },
  {
   "cell_type": "markdown",
   "metadata": {},
   "source": [
    "#### Flowchart of <u>for</u> loop\n",
    "\n",
    "<img height=\"200\" width=\"400\" src=\"https://github.com/suchitmajumdar/LearnPython/blob/master/images/for_0.png?raw=true\"></img>\n"
   ]
  },
  {
   "cell_type": "code",
   "execution_count": 123,
   "metadata": {},
   "outputs": [
    {
     "name": "stdout",
     "output_type": "stream",
     "text": [
      "Sum of the aray is: 15\n"
     ]
    }
   ],
   "source": [
    "# Sum of all numbers in a list\n",
    "\n",
    "myList = [1, 2, 3, 4, 5]\n",
    "\n",
    "sum = 0\n",
    "#iterating over the list\n",
    "for element in myList:\n",
    "    sum += element\n",
    "    \n",
    "print(\"Sum of the aray is: {}\".format(sum))"
   ]
  },
  {
   "cell_type": "markdown",
   "metadata": {},
   "source": [
    "\n",
    "#### range() function\n",
    "\n",
    "Often we need to run a for loop on a range of values that could be based on a starting point to an ending point with pre-specified step size.\n",
    "\n",
    "##### range(start,stop,step size)\n",
    "\n",
    "The numbers in range are not stored but calculated dynamically on the fly using the 3 parameters start,stop, step size"
   ]
  },
  {
   "cell_type": "code",
   "execution_count": 124,
   "metadata": {},
   "outputs": [
    {
     "name": "stdout",
     "output_type": "stream",
     "text": [
      "0\n",
      "1\n",
      "2\n",
      "3\n",
      "4\n"
     ]
    }
   ],
   "source": [
    "# Print range of 5\n",
    "for element in range(5):\n",
    "    print(element)"
   ]
  },
  {
   "cell_type": "code",
   "execution_count": 128,
   "metadata": {},
   "outputs": [
    {
     "name": "stdout",
     "output_type": "stream",
     "text": [
      "1\n",
      "4\n",
      "7\n",
      "10\n",
      "13\n",
      "16\n",
      "19\n",
      "22\n",
      "25\n",
      "28\n",
      "31\n",
      "34\n",
      "37\n"
     ]
    }
   ],
   "source": [
    "# Print range numbers from 0 to 40 but with step size of 12\n",
    "for element in range(1,40,3):\n",
    "    print(element)"
   ]
  },
  {
   "cell_type": "code",
   "execution_count": 130,
   "metadata": {},
   "outputs": [
    {
     "name": "stdout",
     "output_type": "stream",
     "text": [
      "1\n",
      "2\n",
      "3\n",
      "4\n",
      "suchit\n"
     ]
    }
   ],
   "source": [
    "myList = [1, 2, 3, 4, \"suchit\"]\n",
    "\n",
    "# Iterate over myList using index\n",
    "#for index in range(len(myList)):\n",
    "#    print(myList[index])\n",
    "\n",
    "for element in myList:\n",
    "    print(element)"
   ]
  },
  {
   "cell_type": "markdown",
   "metadata": {},
   "source": [
    "#### for loop with else\n",
    "\n",
    "Similar to while loop, a for loop can have an optional else block. <br/>\n",
    "The else part is executed if the items in the sequence used in for loop exhausts.\n",
    "\n",
    "for loop's else part runs if no break occurs."
   ]
  },
  {
   "cell_type": "code",
   "execution_count": 131,
   "metadata": {},
   "outputs": [
    {
     "name": "stdout",
     "output_type": "stream",
     "text": [
      "Suchit\n",
      "Rakesh\n",
      "Roshni\n",
      "Completed the names list\n"
     ]
    }
   ],
   "source": [
    "names = ['Suchit', 'Rakesh', 'Roshni']\n",
    "\n",
    "#iterating over the list\n",
    "for name in names:\n",
    "    print(name)\n",
    "else:\n",
    "    print(\"Completed the names list\")"
   ]
  },
  {
   "cell_type": "code",
   "execution_count": 132,
   "metadata": {},
   "outputs": [
    {
     "name": "stdout",
     "output_type": "stream",
     "text": [
      "Suchit\n",
      "Rakesh\n",
      "Totally outside the for else block\n"
     ]
    }
   ],
   "source": [
    "# Let us use the break keyword\n",
    "\n",
    "for name in names:\n",
    "    print(name)\n",
    "    if name == 'Rakesh':\n",
    "        break    \n",
    "else:\n",
    "    print(\"Completed the names list\")\n",
    "\n",
    "print('Totally outside the for else block')"
   ]
  },
  {
   "cell_type": "markdown",
   "metadata": {},
   "source": [
    "#### Example: Program to calculate the divisors of number"
   ]
  },
  {
   "cell_type": "code",
   "execution_count": 135,
   "metadata": {},
   "outputs": [
    {
     "name": "stdout",
     "output_type": "stream",
     "text": [
      "Please enter a positive number: 100\n",
      "[1, 2, 4, 5, 10, 20, 25, 50]\n"
     ]
    }
   ],
   "source": [
    "inputNumber = input(\"Please enter a positive number: \")\n",
    "number = int(inputNumber)\n",
    "listOfDivisors = [1]\n",
    "\n",
    "for divisor in range(2,int(number/2)+1):               # divisor -> 2.3.4.5.6.7.8....... int(num/2) + 1\n",
    "    if(number%divisor == 0):\n",
    "        listOfDivisors.append(divisor)\n",
    "else:\n",
    "    print(listOfDivisors)"
   ]
  },
  {
   "cell_type": "markdown",
   "metadata": {},
   "source": [
    "### <u>break & continue</u> in Python  "
   ]
  },
  {
   "cell_type": "markdown",
   "metadata": {},
   "source": [
    "The break and continue statements can alter the flow of a normal loop.\n",
    "\n",
    "Loops iterate over a block of code until test expression is false, but sometimes we may need to terminate the current iteration or even the whole loop without cheking test expression.\n",
    "\n",
    "The break and continue statements are used in these cases.\n",
    "\n",
    "#### Python break Statement\n",
    "\n",
    "Syntax:\n",
    "    \n",
    "    break\n",
    "    \n",
    "#### Python continue Statement\n",
    "    \n",
    "syntax:\n",
    "    \n",
    "    continue\n",
    "    \n"
   ]
  },
  {
   "cell_type": "markdown",
   "metadata": {},
   "source": [
    "#### Flowchart of <u>break and continue</u> loop\n",
    "\n",
    "\n",
    "<table width=100%>\n",
    "    <tr><td><img height=\"260\" width=\"300\" src=\"https://github.com/suchitmajumdar/LearnPython/blob/master/images/break.jpg?raw=true\"></img></td><td><img height=\"260\" width=\"380\" src=\"https://github.com/suchitmajumdar/LearnPython/blob/master/images/continue.jpg?raw=true\"></img></td>\n",
    "    </tr>\n",
    "</table>\n",
    "\n",
    "\n"
   ]
  },
  {
   "cell_type": "markdown",
   "metadata": {},
   "source": [
    "#### Examples of break and continue"
   ]
  },
  {
   "cell_type": "code",
   "execution_count": 137,
   "metadata": {},
   "outputs": [
    {
     "name": "stdout",
     "output_type": "stream",
     "text": [
      "Suchit\n",
      "Rakesh\n",
      "Roshni\n",
      "For is completed and we are in else part\n",
      "Totally outside the for & else loop\n"
     ]
    }
   ],
   "source": [
    "# Use of break\n",
    "names = ['Suchit', 'Rakesh', 'Roshni']\n",
    "for name in names:               # Let us iterate over the names list\n",
    "    if name == 'Rakesh':\n",
    "        break\n",
    "    print(name)\n",
    "else:\n",
    "    print('For is completed and we are in else part')\n",
    "print(\"Totally outside the for & else loop\")"
   ]
  },
  {
   "cell_type": "code",
   "execution_count": 138,
   "metadata": {},
   "outputs": [
    {
     "name": "stdout",
     "output_type": "stream",
     "text": [
      "Suchit\n",
      "Roshni\n",
      "For is completed and we are in else part\n",
      "Totally outside the for & else loop\n"
     ]
    }
   ],
   "source": [
    "# Use of continue\n",
    "names = ['Suchit', 'Rakesh', 'Roshni']\n",
    "\n",
    "for name in names:               # Let us iterate over the names list\n",
    "    if name == 'Rakesh':\n",
    "        continue\n",
    "    print(name)                  # If continue condition is satisfied we skip this line and carry on with the next iteration\n",
    "else:\n",
    "    print('For is completed and we are in else part')\n",
    "print(\"Totally outside the for & else loop\")"
   ]
  },
  {
   "cell_type": "markdown",
   "metadata": {},
   "source": [
    "#### Example: First 3 divisors of a number except 2 & 3"
   ]
  },
  {
   "cell_type": "code",
   "execution_count": 142,
   "metadata": {},
   "outputs": [
    {
     "name": "stdout",
     "output_type": "stream",
     "text": [
      "Please enter a positive number: 6\n",
      "[1]\n"
     ]
    }
   ],
   "source": [
    "inputNumber = input(\"Please enter a positive number: \")\n",
    "number = int(inputNumber)\n",
    "listOfDivisors = [1]\n",
    "for divisor in range(2,int(number/2)+1):\n",
    "    if number%divisor == 0:\n",
    "        if divisor in [2,3]:\n",
    "            continue\n",
    "        elif len(listOfDivisors) == 3:\n",
    "            break\n",
    "        listOfDivisors.append(divisor)\n",
    "print(listOfDivisors)"
   ]
  }
 ],
 "metadata": {
  "kernelspec": {
   "display_name": "Python 3",
   "language": "python",
   "name": "python3"
  },
  "language_info": {
   "codemirror_mode": {
    "name": "ipython",
    "version": 3
   },
   "file_extension": ".py",
   "mimetype": "text/x-python",
   "name": "python",
   "nbconvert_exporter": "python",
   "pygments_lexer": "ipython3",
   "version": "3.7.4"
  },
  "toc": {
   "base_numbering": 1,
   "nav_menu": {},
   "number_sections": true,
   "sideBar": true,
   "skip_h1_title": true,
   "title_cell": "Table of Contents",
   "title_sidebar": "Contents",
   "toc_cell": true,
   "toc_position": {},
   "toc_section_display": true,
   "toc_window_display": false
  }
 },
 "nbformat": 4,
 "nbformat_minor": 2
}
