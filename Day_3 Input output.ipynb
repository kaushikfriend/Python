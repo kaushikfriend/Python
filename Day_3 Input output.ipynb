{
 "cells": [
  {
   "cell_type": "markdown",
   "metadata": {
    "toc": true
   },
   "source": [
    "<h1>Table of Contents<span class=\"tocSkip\"></span></h1>\n",
    "<div class=\"toc\"><ul class=\"toc-item\"><li><span><a href=\"#Python-I/O-functions\" data-toc-modified-id=\"Python-I/O-functions-1\"><span class=\"toc-item-num\">1&nbsp;&nbsp;</span>Python I/O functions</a></span><ul class=\"toc-item\"><li><span><a href=\"#Python-Output\" data-toc-modified-id=\"Python-Output-1.1\"><span class=\"toc-item-num\">1.1&nbsp;&nbsp;</span>Python Output</a></span><ul class=\"toc-item\"><li><span><a href=\"#Output-Formatting\" data-toc-modified-id=\"Output-Formatting-1.1.1\"><span class=\"toc-item-num\">1.1.1&nbsp;&nbsp;</span>Output Formatting</a></span></li></ul></li></ul></li><li><span><a href=\"#Refer-documentation-for-more-examples:\" data-toc-modified-id=\"Refer-documentation-for-more-examples:-2\"><span class=\"toc-item-num\">2&nbsp;&nbsp;</span>Refer documentation for more examples:</a></span><ul class=\"toc-item\"><li><span><a href=\"#Python-Input\" data-toc-modified-id=\"Python-Input-2.1\"><span class=\"toc-item-num\">2.1&nbsp;&nbsp;</span>Python Input</a></span></li></ul></li><li><span><a href=\"#Refer-documentation-for-more-examples:\" data-toc-modified-id=\"Refer-documentation-for-more-examples:-3\"><span class=\"toc-item-num\">3&nbsp;&nbsp;</span>Refer documentation for more examples:</a></span></li></ul></div>"
   ]
  },
  {
   "cell_type": "markdown",
   "metadata": {},
   "source": [
    "# Python Basics (Day - 3)\n",
    "<img height=\"60\" width=\"120\" src=\"https://www.python.org/static/img/python-logo-large.png?1414305901\"></img>"
   ]
  },
  {
   "cell_type": "markdown",
   "metadata": {},
   "source": [
    "## Python I/O functions"
   ]
  },
  {
   "cell_type": "markdown",
   "metadata": {},
   "source": [
    "### Python Output"
   ]
  },
  {
   "cell_type": "markdown",
   "metadata": {},
   "source": [
    "To see the output on the screen(standard output device), use the <b>print()</b> function "
   ]
  },
  {
   "cell_type": "code",
   "execution_count": 6,
   "metadata": {},
   "outputs": [
    {
     "name": "stdout",
     "output_type": "stream",
     "text": [
      "The output will be displayed on the screen\n"
     ]
    }
   ],
   "source": [
    "print(\"The output will be displayed on the screen\")"
   ]
  },
  {
   "cell_type": "code",
   "execution_count": 7,
   "metadata": {},
   "outputs": [
    {
     "name": "stdout",
     "output_type": "stream",
     "text": [
      "The value of myInt is 400\n",
      "The value of myInt is 400\n"
     ]
    }
   ],
   "source": [
    "myInt = 400\n",
    "print(\"The value of myInt is\", myInt)\n",
    "print(\"The value of myInt is \" + str(myInt))    # If you wish to print the number in the string form"
   ]
  },
  {
   "cell_type": "markdown",
   "metadata": {},
   "source": [
    "#### Output Formatting"
   ]
  },
  {
   "cell_type": "markdown",
   "metadata": {},
   "source": [
    "To make the output look attractive<br/> \n",
    "we use the <b> str.format() </b> method.<br/> \n",
    "This method is visible to any string object."
   ]
  },
  {
   "cell_type": "code",
   "execution_count": 8,
   "metadata": {},
   "outputs": [
    {
     "name": "stdout",
     "output_type": "stream",
     "text": [
      "myInt1: 20 is the half of myInt2: 40\n"
     ]
    }
   ],
   "source": [
    "myInt1 = 20\n",
    "myInt2 = 40                                                \n",
    "\n",
    "print(\"myInt1: {} is the half of myInt2: {}\".format(myInt1, myInt2))    # Considers the Python provided default Type"
   ]
  },
  {
   "cell_type": "code",
   "execution_count": 9,
   "metadata": {},
   "outputs": [
    {
     "name": "stdout",
     "output_type": "stream",
     "text": [
      "myInt2: 40 is double of myInt1: 20\n"
     ]
    }
   ],
   "source": [
    "myInt1 = 20\n",
    "myInt2 = 40 \n",
    "\n",
    "print(\"myInt2: {1} is double of myInt1: {0}\".format(myInt1, myInt2))    # Considers position of arguments"
   ]
  },
  {
   "cell_type": "code",
   "execution_count": 10,
   "metadata": {},
   "outputs": [
    {
     "name": "stdout",
     "output_type": "stream",
     "text": [
      "Welcome Kaushik to the world of Self Learning\n"
     ]
    }
   ],
   "source": [
    "# Use of keyword arguments to format the string\n",
    "print(\"Welcome {name} to the world of {ds}\".format(name=\"Kaushik\", ds=\"Self Learning\"))"
   ]
  },
  {
   "cell_type": "code",
   "execution_count": 11,
   "metadata": {},
   "outputs": [
    {
     "name": "stdout",
     "output_type": "stream",
     "text": [
      "Welcome Kaushik, to the world of Self Learning. We are learning Python.\n"
     ]
    }
   ],
   "source": [
    "# Also a combination of positional arguments with keyword arguments is applicable\n",
    "print('Welcome {0}, to the world of {1}. We are learning {Subject}.'.format('Kaushik', 'Self Learning', Subject='Python'))"
   ]
  },
  {
   "cell_type": "markdown",
   "metadata": {},
   "source": [
    "## Refer documentation for more examples: \n",
    "\n",
    "https://docs.python.org/3.7/library/string.html#format-examples"
   ]
  },
  {
   "cell_type": "code",
   "execution_count": 12,
   "metadata": {},
   "outputs": [
    {
     "name": "stdout",
     "output_type": "stream",
     "text": [
      "+3.140000; -3.140000\n"
     ]
    }
   ],
   "source": [
    "print('{:+f}; {:+f}'.format(3.14, -3.14))  # show the signs "
   ]
  },
  {
   "cell_type": "markdown",
   "metadata": {},
   "source": [
    "### Python Input"
   ]
  },
  {
   "cell_type": "markdown",
   "metadata": {},
   "source": [
    "User inputs can be taken in Python by using the input() function. "
   ]
  },
  {
   "cell_type": "code",
   "execution_count": 13,
   "metadata": {},
   "outputs": [
    {
     "name": "stdout",
     "output_type": "stream",
     "text": [
      "Please enter some data: 1\n",
      "You typed in:  1\n"
     ]
    }
   ],
   "source": [
    "userInput = input(\"Please enter some data: \")\n",
    "print(\"You typed in: \",userInput)"
   ]
  },
  {
   "cell_type": "code",
   "execution_count": 14,
   "metadata": {},
   "outputs": [
    {
     "name": "stdout",
     "output_type": "stream",
     "text": [
      "Enter class strength: 1\n",
      "You typed in:  1\n",
      "userInput type is :  <class 'str'>\n"
     ]
    }
   ],
   "source": [
    "userInput = input(\"Enter class strength: \")\n",
    "print(\"You typed in: \",userInput)\n",
    "print(\"userInput type is : \",type(userInput))"
   ]
  },
  {
   "cell_type": "code",
   "execution_count": 5,
   "metadata": {},
   "outputs": [
    {
     "name": "stdout",
     "output_type": "stream",
     "text": [
      "classStrength value is:  11\n",
      "classStrength type is :  <class 'int'>\n"
     ]
    }
   ],
   "source": [
    "classStrength = int(userInput)\n",
    "print(\"classStrength value is: \",classStrength)\n",
    "print(\"classStrength type is : \",type(classStrength))"
   ]
  },
  {
   "cell_type": "markdown",
   "metadata": {},
   "source": [
    "## Refer documentation for more examples: \n",
    "\n",
    "https://docs.python.org/3.7/tutorial/inputoutput.html?highlight=input"
   ]
  }
 ],
 "metadata": {
  "kernelspec": {
   "display_name": "Python 3",
   "language": "python",
   "name": "python3"
  },
  "language_info": {
   "codemirror_mode": {
    "name": "ipython",
    "version": 3
   },
   "file_extension": ".py",
   "mimetype": "text/x-python",
   "name": "python",
   "nbconvert_exporter": "python",
   "pygments_lexer": "ipython3",
   "version": "3.7.4"
  },
  "toc": {
   "base_numbering": 1,
   "nav_menu": {},
   "number_sections": true,
   "sideBar": true,
   "skip_h1_title": true,
   "title_cell": "Table of Contents",
   "title_sidebar": "Contents",
   "toc_cell": true,
   "toc_position": {},
   "toc_section_display": true,
   "toc_window_display": false
  }
 },
 "nbformat": 4,
 "nbformat_minor": 2
}
